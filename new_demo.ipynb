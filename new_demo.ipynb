{
 "cells": [
  {
   "cell_type": "code",
   "execution_count": 1,
   "metadata": {},
   "outputs": [],
   "source": [
    "import os\n",
    "import openai\n",
    "from dotenv import load_dotenv, find_dotenv\n",
    "import openai \n",
    "\n",
    "\n",
    "load_dotenv(find_dotenv())\n",
    "\n",
    "openai.api_key = os.environ['OPENAI_API_KEY']"
   ]
  },
  {
   "cell_type": "markdown",
   "metadata": {},
   "source": [
    "--- "
   ]
  },
  {
   "cell_type": "markdown",
   "metadata": {},
   "source": [
    "# Data"
   ]
  },
  {
   "cell_type": "code",
   "execution_count": 2,
   "metadata": {},
   "outputs": [],
   "source": [
    "DATA_FOLDER_PATH = os.path.join(os.getcwd(), \"data\")\n",
    "assert os.path.exists(DATA_FOLDER_PATH)"
   ]
  },
  {
   "cell_type": "code",
   "execution_count": 4,
   "metadata": {},
   "outputs": [],
   "source": [
    "# Load brand knowledge \n",
    "with open(os.path.join(DATA_FOLDER_PATH, \"brand_data\", \"brand_knowledge.txt\"), \"r\") as f:\n",
    "    brand_knowledge = f.read()\n",
    "    \n",
    "# Load persona\n",
    "with open(os.path.join(DATA_FOLDER_PATH, \"persona\", \"persona.txt\"), \"r\") as f:\n",
    "    persona = f.read()\n",
    "    \n",
    "# Load copywriting guidelines\n",
    "with open(os.path.join(DATA_FOLDER_PATH, \"brand_data\", \"copywriting_guidelines.txt\"), \"r\") as f:\n",
    "    copywriting_guidelines = f.read()\n",
    "    \n",
    "# Load Plateform Specs\n",
    "with open(os.path.join(DATA_FOLDER_PATH, \"platform_specs\", \"hermes.txt\"), \"r\") as f:\n",
    "    hermes_specs = f.read()\n",
    "    \n",
    "with open(os.path.join(DATA_FOLDER_PATH, \"platform_specs\", \"sephora.txt\"), \"r\") as f:\n",
    "    sephora_specs = f.read()"
   ]
  },
  {
   "cell_type": "code",
   "execution_count": 5,
   "metadata": {},
   "outputs": [],
   "source": [
    "# Load product data\n",
    "product_data = {}  \n",
    "\n",
    "languages = os.listdir(os.path.join(DATA_FOLDER_PATH, \"product_data\"))\n",
    "\n",
    "product_data = {\n",
    "    language: {\n",
    "        product[:-4].replace('_', ' ').capitalize().replace('hermes', 'Hermès'): open(os.path.join(DATA_FOLDER_PATH, \"product_data\", language, product), \"r\").read() for product in os.listdir(os.path.join(DATA_FOLDER_PATH, \"product_data\", language))\n",
    "    } for language in languages\n",
    "}\n",
    "    \n",
    "    "
   ]
  },
  {
   "cell_type": "code",
   "execution_count": 6,
   "metadata": {},
   "outputs": [
    {
     "data": {
      "text/plain": [
       "{'fr': {'Galop': \"LA CRÉATION\\nSigné par le parfumeur d'Hermès Christine Nagel en 2016, Galop d'Hermès s'inspire de l'univers équestre et incarne la liberté en mouvement : « Chez Hermès, j'ai découvert toute la féminité du cuir. J'ai composé Galop d'Hermès comme un tableau avec deux matières emblématiques d'Hermès et de la parfumerie : le cuir et la rose. »\\n\\nLES NOTES OLFACTIVES\\nFloral et cuiré, le parfum Galop d'Hermès développe les notes charnues de la rose et celles souples du cuir, au côté d'un safran racé.\\n\\nL'OBJET\\nDessiné par Philippe Mouquet, le flacon-étrier puise avec modernité dans la tradition équestre et l'histoire de la Maison.\\n\\nL'ÉTHIQUE\\nLe flacon se remplit grâce à une recharge de 125 ml munie d'un bouchon verseur en forme d'entonnoir parfaitement adapté à son col. Un geste responsable, indissociable d'un objet créé pour durer.\\n\\nLE DÉTAIL HERMÈS\\nInitialement créé pour être offert aux invités à l'inauguration du premier magasin Hermès de New York le 1er août 1930, l'objet était depuis précieusement gardé au Conservatoire des créations Hermès. Il a été redessiné pour devenir le flacon-étrier de Galop d'Hermès.\\n\",\n",
       "  'Voyage': 'LA CRÉATION\\nEn 2011, Jean-Claude Ellena signe Voyage d\\'Hermès Parfum, une réinterprétation intense et généreuse de la fragrance originelle. « Je me suis éloigné du principe de \"concentration\" de la formule pour m\\'intéresser à l\\'intensité des perceptions et à l\\'amplitude du sillage. »\\n\\nLES NOTES OLFACTIVES\\nBoisé et ambré, Voyage d\\'Hermès Parfum révèle une baie de genièvre revigorante mariée au caractère lacté et doux du bois de santal.\\n\\nL\\'OBJET\\nLe designer Philippe Mouquet a créé un objet singulier, inspiré d\\'une loupe de poche trouvée au hasard des chemins. Le flacon de verre noir s\\'habille d\\'un étrier couleur argent, orné du Clou de Selle emblématique.\\n\\nL\\'ÉTHIQUE\\nLe flacon se remplit à l\\'aide de la recharge de parfum Voyage d\\'Hermès 125 ml. Un geste responsable, indissociable d\\'un objet créé pour durer.\\n\\nLE DÉTAIL HERMÈS\\nDepuis la fondation par Thierry Hermès d\\'une manufacture de harnais et de selles à Paris en 1837, Hermès est l\\'artisan du mouvement et accompagne le voyage. Ce thème inspire la création et anime la culture de la Maison.\\n',\n",
       "  'Jardin sur le nil': \"LA CRÉATION\\nCréé en 2005, l'eau de toilette Un Jardin sur le Nil évoque un voyage olfactif dans les îles-jardins à Assouan en Égypte. Le parfumeur Jean-Claude Ellena raconte dans cette composition ce fleuve synonyme de vie et de générosité.\\n\\nLES NOTES OLFACTIVES\\n\\nVerte et boisée, l'eau de toilette Un Jardin sur le Nil mêle une mangue verte acidulée, un lotus délicat et un sycomore élégant.\\n\\nL'OBJET\\nDessiné par Fred Rawyler, le flacon s'inspire des lignes des lanternes des voitures d'antan. Le verre du flacon s'anime d'un délicat dégradé vert à l'image des rives du Nil. L'étui est illustré d'un lotus en fleur sous le pinceau de l'artiste Véronique de Mareuil.\\n\\nLA COLLECTION PARFUMS-JARDINS\\nLa collection des Parfums-Jardins signe la rencontre entre l'âme d'un lieu, l'inspiration du parfumeur et le thème que se choisit la maison Hermès chaque année pour éclairer sa création. Une promenade olfactive à partager pour chaque moment, pour des envies de fraîcheur, de rêverie et d'évasion.\\n\",\n",
       "  'Caleche': \"LA CRÉATION\\nComposé par le parfumeur Guy Robert en 1961, Calèche est le premier parfum féminin d'Hermès. Son nom fait écho à l'attelage emblématique de la Maison : la voiture hippomobile du XIXe siècle, élégante et légère.\\n\\nLES NOTES OLFACTIVES\\nFragrance florale et aldéhydée, l'eau de toilette Calèche réunit avec une grande féminité la finesse des aldéhydes, l'ondulation d'un jasmin et la légèreté d'une rose.\\n\\nL'OBJET\\nInspiré des lanternes des voitures d'antan, le flacon est coiffé d'un capot noir faisant écho à la bombe des cavaliers. Signe d'appartenance à la collection des Parfums-Fondateurs, l'étiquette au dos est illustrée d'un dessin de Philippe Dumas.\\n\\nLA COLLECTION DES PARFUMS-FONDATEURS\\nLa collection des Parfums-Fondateurs puise son inspiration dans le patrimoine de la Maison. Chaque création concentre l'imaginaire d'Hermès en un nom, une fragrance, une couleur. Au fil des ans, Hermès a écrit les pages d'une parfumerie audacieuse, née de la rencontre avec des parfumeurs d'exception.\\n\",\n",
       "  'Jardin a cythere': 'Les Parfums-Jardins\\nÉchos aux thèmes annuels imaginés par la maison, les Parfums-Jardins sont nés de la rencontre entre l’âme d’un lieu, l’esprit d’Hermès et l’inspiration du parfumeur. Pour chaque moment, une promenade olfactive à partager pour des envies de fraîcheur, de rêverie et d’évasion.\\n\\nL’inspiration\\nHermès célèbre l’étonnement et nous invite à la découverte d’un jardin singulier, ni vert ni fleuri, mais... blond : Un Jardin à Cythère.\\nL’expression d’une quête olfactive à travers le Péloponnèse,qui mène à Cythère, une île grecque préservée ayant inspiré de nombreux artistes.\\nUn parfum baigné de soleil où les senteurs des graminées dorées se mêlent à la force du bois d’olivier et à la tendresse de la pistache fraîche.\\n\\nLa fragrance\\nHespéridé, boisé.\\nUn jardin blond, enveloppant et étonnant.\\nÉvocation de graminées enveloppantes, de bois d’olivier vigoureux et de pistache fraîche.\\n\\nL’étui\\nArtiste et dessinateur de carrés pour la maison,Elias Kafouros est véritablement épris de sa terre natale, la Grèce. Il représente sur cet étui sa vision authentique du paysage hellénique.\\nL’illustration nous invite à contempler l’herbe dorée réchauffée par le soleil et caressée par le vent, les nuances de vert des oliviers, le rose des pistaches fraîches et le bleu de la mer.\\n\\nLe flacon\\nL’emblématique flacon «lanterne» est infusé d’un jaune chaud et lumineux,écho à la fragrance. Un flacon gorgé de soleil.\\n',\n",
       "  'Jour': \"LA CRÉATION\\nComposition féminine et intemporelle, Jour d'Hermès a été créé en 2012 par le parfumeur Jean-Claude Ellena : « J'ai voulu exprimer par les fleurs, et rien que les fleurs, l'essence de la féminité. »\\n\\nLES NOTES OLFACTIVES\\nL'eau de parfum Jour d'Hermès est une fragrance florale. Elle convoque la sensualité du gardénia et la délicatesse du pois de senteur dans une harmonie parfaite.\\n\\nL'OBJET\\nDessiné par le designer Pierre Hardy, le flacon s'épanouit en courbes rondes et sensuelles. Au centre, une goutte de parfum lumineuse en suspension.\\n\\nL'ÉTHIQUE\\nLe flacon se remplit à l'aide de la recharge d'eau de parfum 125 ml. Un geste responsable, indissociable d'un objet créé pour durer.\\n\\nLE DÉTAIL HERMÈS\\nOutil essentiel à l'ouvrage de l'artisan, la lumière, chez Hermès, est la première des matières. Elle anime, donne vie aux objets et révèle la beauté du monde. Cette lumière a inspiré le plus essentiel des parfums, Jour d'Hermès.\\n\",\n",
       "  'Eau des merveilles': \"LA CRÉATION\\nCréée par les parfumeurs Ralf Schwieger et Nathalie Feisthauer, l'eau de toilette Eau des Merveilles ouvre sur le merveilleux d'Hermès. Un monde où l'extraordinaire se révèle avec une pluie d'étoiles en plein jour.\\n\\nLES NOTES OLFACTIVES\\nUne eau de toilette boisée et ambrée, qui mêle le benjoin enveloppant, l'élémi épicé et la bigarade pétillante.\\n\\nL'OBJET\\nDessiné par Serge Mansau, le flacon loupe étoilé fait scintiller une lumière orangée, de l'intense à l'aérien. Sur le dessus du spray, apparaît gravé le sceau clou de selle de la maison. Le format 30 ml est la clé pour ouvrir l'imaginaire partout et à tout instant.\\n\\nL'ÉTHIQUE\\nLe flacon est rechargeable. Un geste responsable, indissociable d'un objet créé pour durer.\\n\",\n",
       "  'Eau d orange verte': \"LA CRÉATION\\nLa toute première cologne de la maison Hermès est signée Françoise Caron en 1979. Elle est d'abord appelée Eau de cologne Hermès, avant d'être renommée Eau d'orange verte en 1997. Devenue emblématique, elle se distingue par sa fraîcheur vive et verte.\\n\\nLES NOTES OLFACTIVES\\nLa cologne Eau d'orange verte allie une orange éclatante, à la fraîcheur de la menthe et aux notes boisées de la mousse.\\n\\nL'OBJET\\nLe flacon lanterne emblématique se pare d'un vert profond. Sur la boîte orange, un bandeau tout en contraste rappelle la couleur du flacon.\\n\\nLA COLLECTION DES COLOGNES HERMÈS\\nTerrain de jeu infini autant que virtuose, la collection des Colognes Hermès explore la sensorialité des matières. Elle signe un plaisir immédiat et généreux, qui rassemble au-delà des genres, des modes, des âges ou des saisons.\\n\",\n",
       "  'Tutti twilly': \"LA CRÉATION\\nImaginée par Christine Nagel pour les filles d'Hermès, l'eau de parfum Tutti Twilly d'Hermès est un hommage à leur esprit libre, fait d'audace et de légèreté, et à leur pluralité. Toutes différentes, elles se retrouvent dans ce parfum.\\n\\nLES NOTES OLFACTIVES\\nUne eau de parfum florale et fruitée au caractère généreux tressée d'une fleur de gingembre douce, d'un litchi moelleux et d'un musc enveloppant.\\n\\nL'OBJET\\nDessiné par Florence Manlik, le flacon-lanterne emblématique est coupé au carré et se pare d'un dégradé inversé rouge litchi. Son capot blanc s'habille d'un lien de soie signé de Carine Brancowitz. Noué à la main, chaque lien de soie est unique. Le format 30 ml permet d'emporter partout avec soi les notes de Tutti Twilly, pour diffuser l'esprit libre des filles d'Hermès.\\n\\nLE DÉTAIL HERMÈS\\nLe nom de la tribu parfumée Twilly d'Hermès évoque le métier de la soie Hermès : le Twilly, petit ruban joyeux et coloré aux multiples portés, est le détournement du carré en twill de soie de la Maison.\\n\",\n",
       "  'Terre d Hermès': \"LA CRÉATION\\nEn 2006, Jean-Claude Ellena crée Terre d'Hermès, une eau reliant l'homme à ses origines, aux sources de sa puissance créatrice. Terre d'Hermès raconte la relation de l'homme à la terre, son dialogue humble et harmonieux avec la nature et les éléments.\\nDepuis 2016, Christine Nagel, parfumeur d'Hermès, pose son regard sur Terre pour en explorer les nouveaux possibles.\\n\\nLES NOTES OLFACTIVES\\nFragrance minérale et boisée, Terre d'Hermès allie la puissance du cèdre et l'éclat du pamplemousse à une note de silex vibrante.\\n\\nL'OBJET\\nCôté sol, le flacon est posé sur un H orange. Il marque son empreinte dans la terre. Côté ciel, la lumière se reflète sur les épaules métalliques. Entre les deux, la transparence de l'eau.\\n\\nLE DÉTAIL HERMÈS\\nUne fois en main, le flacon Terre d'Hermès dévoile de nombreux détails : le Clou de Selle emblématique de la Maison, le capot que l'on coulisse pour libérer le spray, etc.\\nCréé par le designer Philippe Mouquet, il s'inspire d'un flacon de nécessaire de voyage, conservé au musée Emile Hermès.\\n\"},\n",
       " 'en': {'Galop': \"CREATION\\nCreated in 2005, Un Jardin sur le Nil eau de toilette evokes an olfactory journey to the garden islands in Aswan, Egypt. In this composition, perfumer Jean-Claude Ellena tells of this river synonymous with life and generosity.\\n\\nOLFACTORY NOTES\\n\\nGreen and woody, Un Jardin sur le Nil eau de toilette combines tangy green mango with delicate lotus and elegant sycamore.\\n\\nTHE OBJECT\\nDesigned by Fred Rawyler, the bottle is inspired by the lines of horse-drawn carriage lanterns. Its glass is in a delicate green gradient, evoking the banks of the Nile. The box is illustrated with a lotus flower by artist Veronique de Mareuil.\\n\\nTHE PARFUMS-JARDINS COLLECTION\\nThe Parfums-Jardins collection brings together the soul of a place, the perfumer's inspiration and the theme chosen by Hermès each year to nourish its creativity. They are olfactory strolls to share for every moment, to indulge every desire for freshness, reverie or escape.\\n\",\n",
       "  'Voyage': 'CREATION\\nIn 2011, Jean-Claude Ellena created Voyage d\\'Hermès Parfum, an intense and generous reinterpretation of the original fragrance. \"I moved away from the idea of \\'concentrating\\' the formula to focus on the intensity of perceptions and the magnitude of the fragrance trail.\"\\n\\nOLFACTORY NOTES\\nWith a woody and amber character, Voyage d\\'Hermès Parfum reveals invigorating juniper berry blended with sweet and milky sandalwood.\\n\\nTHE OBJECT\\nDesigner Philippe Mouquet created a unique object inspired by a pocket magnifying glass found by chance. The black glass bottle is encased in a silver-colored stirrup and decorated with the emblematic Clou de Selle.\\n\\nETHICS\\nThe bottle can be replenished using the 125 ml Voyage d\\'Hermès Parfum refill. A responsible gesture, integral to an object created to last.\\n\\nTHE HERMÈS DETAIL\\nHermès has been an artisan of movement and a valued companion for travelers ever since Thierry Hermès founded a harness and saddlery business in Paris in 1837. This theme underpins the House\\'s creativity and inspires its culture.\\n',\n",
       "  'Jardin sur le nil': \"CREATION\\nCreated in 2005, Un Jardin sur le Nil eau de toilette evokes an olfactory journey to the garden islands in Aswan, Egypt. In this composition, perfumer Jean-Claude Ellena tells of this river synonymous with life and generosity.\\n\\nOLFACTORY NOTES\\n\\nGreen and woody, Un Jardin sur le Nil eau de toilette combines tangy green mango with delicate lotus and elegant sycamore.\\n\\nTHE OBJECT\\nDesigned by Fred Rawyler, the bottle is inspired by the lines of horse-drawn carriage lanterns. Its glass is in a delicate green gradient, evoking the banks of the Nile. The box is illustrated with a lotus flower by artist Veronique de Mareuil.\\n\\nTHE PARFUMS-JARDINS COLLECTION\\nThe Parfums-Jardins collection brings together the soul of a place, the perfumer's inspiration and the theme chosen by Hermès each year to nourish its creativity. They are olfactory strolls to share for every moment, to indulge every desire for freshness, reverie or escape.\\n\",\n",
       "  'Caleche': \"CREATION\\nCreated by perfumer Guy Robert in 1961, Hermès' first fragrance for women, Caleche, was reinterpreted in 1992 as Caleche soie de parfum, the name of which refers to the horse-drawn carriages that are emblematic of the House and its silk metier.\\n\\nOLFACTORY NOTES\\nFloral with aldehyde aromas, Caleche Soie de Parfum combines the refined notes of aldehyde with opulent jasmine and generous rose.\\n\\nTHE OBJECT\\nThe bottle, inspired by the lanterns of horse-drawn carriages, has a black cap reminiscent of a riding hat. The back label is illustrated with a design by Philippe Dumas, indicating that it belongs to the Parfums-Fondateurs collection.\\n\\nTHE PARFUMS-FONDATEURS COLLECTION\\nThe Parfums-Fondateurs collection draws inspiration from the House's heritage. Each creation encapsulates Hermès' imaginary world in a name, a fragrance and a color. Over the years, Hermès has pioneered a bold style of perfumery, resulting from encounters with exceptional perfumers.\\n\",\n",
       "  'Jardin a cythere': \"CREATION\\nCreated by Hermès' perfumer Christine Nagel, Un Jardin a Cythere eau de toilette is a surprising garden that is neither green nor floral, but... blond. It is the expression of an olfactory quest through Greece that leads to Kythira, a picturesque island that has inspired many artists.\\n\\nOLFACTORY NOTES\\nA citrus and woody fragrance, Un Jardin a Cythere eau de toilette combines enveloping notes of grasses with the strength of olive wood and the tenderness of fresh pistachio.\\n\\nTHE OBJECT\\nDesigned by Fred Rawyler, the bottle is inspired by the lines of the horse-drawn carriage lanterns of yesteryear. The luminous yellow glass echoes the sunny fragrance. On the box, artist Elias Kafouros sketches a colorful landscape of his homeland: golden grasses, green olive trees, fresh pink pistachios and in the background, the blue of the sea.\\n\\nTHE PARFUMS-JARDINS COLLECTION\\nThe Parfums-Jardins collection brings together the soul of a place, the perfumer's inspiration and the annual theme selected by Hermès. An aromatic journey for every moment, satisfying every desire for freshness, reverie or escape.\\n\",\n",
       "  'Jour': 'CREATION\\nJour d\\'Hermès is a timeless, feminine composition that was created in 2012 by perfumer Jean-Claude Ellena: \"I wanted to express the essence of femininity through flowers, and flowers alone.\"\\n\\nOLFACTORY NOTES\\nJour d\\'Hermès eau de parfum is a floral fragrance. It evokes the sensuality of gardenia and the delicacy of sweet peas in a perfectly orchestrated harmony.\\n\\nTHE OBJECT\\nCreated by designer Pierre Hardy, the bottle displays rounded, sensual curves. At the center, a radiant drop of perfume hangs suspended.\\n\\nETHICS\\nThe bottle can be replenished using the 125 ml eau de parfum refill. A responsible gesture, integral to an object created to last.\\n\\nTHE HERMÈS DETAIL\\nAn essential tool for the artisan\\'s work, light is the primary material at Hermès. It energizes objects and brings them to life, while revealing the beauty of the world. It is this light that inspired Jour d\\'Hermès, the most vital of fragrances.\\n',\n",
       "  'Eau des merveilles': \"THE CREATION\\nCreated by perfumers Ralf Schwieger and Nathalie Feisthauer, Eau des Merveilles eau de toilette showcases the wonders of Hermès. A world where the extraordinary is revealed with a shower of stars in broad daylight.\\n\\nOLFACTORY NOTES\\nThe woody and amber eau de toilette blends enveloping benzoin, spicy elemi and sparkling bigarade orange.\\n\\nBOTTLE\\nDesigned by Serge Mansau, the star-spangled magnifying-glass bottle twinkles with an orange light that shifts from intense to ethereal. The top of the spray is engraved with the House's Clou de Selle seal.\\n\\nTHE EAU DES MERVEILLES CONSTELLATION\\nThis first opus of the Hermès Merveilles collection invites you to discover a world of enchantment with your feet on the ground and head in the stars. An olfactory constellation revealing the house's poetic view of the world.\\n\",\n",
       "  'Eau d orange verte': \"CREATION\\nThe very first Hermès cologne was created by Françoise Caron in 1979. It was initially called Eau de cologne Hermès, before being renamed Eau d'orange verte in 1997. Now iconic, it stands out for its vivid green freshness.\\n\\nOLFACTORY NOTES\\nThe Eau d'orange verte cologne combines vibrant orange with fresh mint and woody notes of moss.\\n\\nTHE OBJECT\\nThe iconic lantern bottle is adorned with a deep green. On the orange box, a vividly contrasting band recalls the color of the bottle.\\n\\nTHE HERMÈS COLOGNES COLLECTION\\nThe Hermès Colognes collection offers a playground that is as infinite as it is masterly for exploring the sensory nature of materials. It brings immediate and abundant pleasure that unifies beyond genres, fashions, ages or seasons.\\n\",\n",
       "  'Tutti twilly': \"THE CREATION\\nCreated by Christine Nagel for the Hermès girls, Tutti Twilly d'Hermès eau de parfum is a tribute to their free spirit – a blend of daring and lightheartedness – and their multifaceted nature. Individuality is reflected in this fragrance.\\n\\nOLFACTORY NOTES\\nA floral and fruity eau de parfum with a generous character crafted with gentle ginger blossom, mellow lychee, and enveloping musk notes.\\n\\nBOTTLE\\nDesigned by Florence Manlik, the lantern-shaped bottle has a square silhouette, adorned with an inverted lychee-red color graduation. With a final flourish, a hand-tied silk ribbon playfully embellishes the cap of each bottle designed by Carine Brancowitz. Each silk ribbon is unique. Its 30 ml format allows you to take the notes of Tutti Twilly with you while on the go to diffuse the sparkle of the Hermès girls anywhere and everywhere.\\n\\nTHE HERMÈS DETAIL\\nThe Twilly d'Hermès family of perfumes evokes the Hermès silk métier on two fronts: it calls to mind the house's silk twill scarf as well as the Twilly, a small, joyful, colorful silk ribbon that can be worn in countless ways.\\n\",\n",
       "  'Terre d Hermès': \"THE CREATION\\nTerre d'Hermès tells the story of man's relationship with the earth, his humble and harmonious dialogue with nature and the elements.\\nIn 2009, Jean-Claude Ellena infused Terre d'Hermès with a new density by creating Terre d'Hermès Parfum.\\n\\nOLFACTORY NOTES\\nA warm, woody fragrance, Terre d'Hermès Parfum combines enveloping cedar and sparkling grapefruit with a radiant note of shiso.\\n\\nTHE OBJECT\\nAt its base, the bottle rests on a more visible orange H – echoing the deeper color of the fragrance – which leaves its imprint on the earth. At the top, the light is reflected by the bottle's metal shoulders.\\n\\nTHE HERMÈS DETAIL\\nWhen held in the hand, the Terre d'Hermès Parfum bottle unveils its many details: the House's iconic Clou de Selle, the sliding cover used to release the spray, etc.\\nCreated by designer Philippe Mouquet, it is inspired by a bottle in a travel vanity case that is conserved at the Emile Hermès museum.\\n\"}}"
      ]
     },
     "execution_count": 6,
     "metadata": {},
     "output_type": "execute_result"
    }
   ],
   "source": [
    "product_data"
   ]
  },
  {
   "cell_type": "markdown",
   "metadata": {},
   "source": [
    "# Load Prompt"
   ]
  },
  {
   "cell_type": "code",
   "execution_count": 7,
   "metadata": {},
   "outputs": [],
   "source": [
    "PROMPT_FOLDER_PATH = os.path.join(os.getcwd(), 'prompts')\n",
    "assert os.path.exists(PROMPT_FOLDER_PATH)"
   ]
  },
  {
   "cell_type": "code",
   "execution_count": 8,
   "metadata": {},
   "outputs": [],
   "source": [
    "def load_prompts(prompt_folder_path):\n",
    "    with open(os.path.join(prompt_folder_path, \"system_prompt.txt\"), \"r\") as f:\n",
    "        system_prompt = f.read()\n",
    "    with open(os.path.join(prompt_folder_path, \"human_prompt.txt\"), \"r\") as f:\n",
    "        human_prompt = f.read()\n",
    "    return system_prompt, human_prompt"
   ]
  },
  {
   "cell_type": "code",
   "execution_count": 9,
   "metadata": {},
   "outputs": [],
   "source": [
    "copywriting_system_prompt, copywriting_human_prompt = load_prompts(os.path.join(PROMPT_FOLDER_PATH, \"Copywriting\"))\n",
    "brand_review_system_prompt, brand_review_human_prompt = load_prompts(os.path.join(PROMPT_FOLDER_PATH, \"BrandReview\"))\n",
    "copywriting_review_system_prompt, copywriting_review_human_prompt = load_prompts(os.path.join(PROMPT_FOLDER_PATH, \"CopywritingReview\"))\n",
    "tov_review_system_prompt, tov_review_human_prompt = load_prompts(os.path.join(PROMPT_FOLDER_PATH, \"TOVReview\"))\n",
    "editor_system_prompt, editor_human_prompt = load_prompts(os.path.join(PROMPT_FOLDER_PATH, \"Editor\"))\n",
    "role =  open(os.path.join(PROMPT_FOLDER_PATH, \"Role\", \"role.txt\"), \"r\").read()\n"
   ]
  },
  {
   "cell_type": "markdown",
   "metadata": {},
   "source": [
    "# Writer Chain"
   ]
  },
  {
   "cell_type": "code",
   "execution_count": 10,
   "metadata": {},
   "outputs": [],
   "source": [
    "from langchain_core.prompts import ChatPromptTemplate, SystemMessagePromptTemplate, HumanMessagePromptTemplate\n",
    "from langchain_core.pydantic_v1 import BaseModel, Field\n",
    "from langchain_core.output_parsers import JsonOutputParser\n",
    "from langchain_openai.chat_models import ChatOpenAI\n",
    "from langchain_core.runnables import RunnablePassthrough, RunnableLambda\n",
    "from operator import itemgetter\n",
    "\n",
    "\n",
    "# Model Selection\n",
    "model = ChatOpenAI(model_name=\"gpt-4-turbo\")\n",
    "\n",
    "# Output parser creation\n",
    "class Copywriting(BaseModel):\n",
    "    generated_text: str = Field(description=\"The written product detail page.\")\n",
    "\n",
    "class Feedback(BaseModel):\n",
    "    feedback: str = Field(description=\"The feedback on the copy.\")\n",
    "\n",
    "class Edition(BaseModel):\n",
    "    edited_text: str = Field(description=\"The edited and improved version of the product detail page.\")\n",
    "\n",
    "copywriting_output_parser = JsonOutputParser(pydantic_object=Copywriting)\n",
    "review_output_parser = JsonOutputParser(pydantic_object=Feedback)\n",
    "edition_output_parser = JsonOutputParser(pydantic_object=Edition)\n",
    "\n",
    "# Chains\n",
    "## Copywriting\n",
    "copywriting_prompt = ChatPromptTemplate(\n",
    "    messages=[\n",
    "        SystemMessagePromptTemplate.from_template(copywriting_system_prompt),\n",
    "        HumanMessagePromptTemplate.from_template(copywriting_human_prompt)\n",
    "    ],\n",
    "    input_variables=[\"role\", \"persona\", \"language\", \"product_data\", \"brand_knowledge\", \"copywriting_guidelines\", \"platform_specs\"],\n",
    "    partial_variables={\"format_instructions\": copywriting_output_parser.get_format_instructions()}\n",
    ")\n",
    "\n",
    "copywriting_chain = copywriting_prompt | model | copywriting_output_parser\n",
    "\n",
    "## Brand Review\n",
    "brand_review_prompt = ChatPromptTemplate(\n",
    "    messages=[\n",
    "        SystemMessagePromptTemplate.from_template(brand_review_system_prompt),\n",
    "        HumanMessagePromptTemplate.from_template(brand_review_human_prompt)\n",
    "    ],\n",
    "    input_variables=[\"role\", \"brand_knowledge\", \"generated_text\"],\n",
    "    partial_variables={\"format_instructions\": review_output_parser.get_format_instructions()}\n",
    ")\n",
    "brand_review_chain = brand_review_prompt | model | review_output_parser\n",
    "\n",
    "## Copywriting Review\n",
    "copywriting_review_prompt = ChatPromptTemplate(\n",
    "    messages=[\n",
    "        SystemMessagePromptTemplate.from_template(copywriting_review_system_prompt),\n",
    "        HumanMessagePromptTemplate.from_template(copywriting_human_prompt)\n",
    "    ],\n",
    "    input_variables=[\"role\", \"copywriting_guidelines\", \"generated_text\"],\n",
    "    partial_variables={\"format_instructions\": review_output_parser.get_format_instructions()}\n",
    ")\n",
    "copywriting_review_chain = copywriting_review_prompt | model | review_output_parser\n",
    "\n",
    "## TOV Review \n",
    "def format_examples(example_dict):\n",
    "    formated_text = \"\"\n",
    "    for product in example_dict.keys():\n",
    "        formated_text += str(product.upper()) + \"\\n\"\n",
    "        formated_text +=  str(example_dict[product]) + \"\\n\"\n",
    "        formated_text += \"-\" * 10 + \"\\n\"\n",
    "    return formated_text\n",
    "        \n",
    "tov_review_prompt = ChatPromptTemplate(\n",
    "    messages=[\n",
    "        SystemMessagePromptTemplate.from_template(tov_review_system_prompt),\n",
    "        HumanMessagePromptTemplate.from_template(tov_review_human_prompt)\n",
    "    ],\n",
    "    input_variables=[\"role\", \"reference_examples\", \"generated_text\"],\n",
    "    partial_variables={\"format_instructions\": review_output_parser.get_format_instructions()}\n",
    ")\n",
    "tov_review_chain = tov_review_prompt | model | review_output_parser\n",
    "\n",
    "## Edition\n",
    "edition_prompt = ChatPromptTemplate(\n",
    "    messages=[\n",
    "        SystemMessagePromptTemplate.from_template(editor_system_prompt),\n",
    "        HumanMessagePromptTemplate.from_template(editor_human_prompt)\n",
    "    ],\n",
    "    input_variables=[\"role\", \"perona\", \"generated_text\", \"feedback\", \"brand_knowledge\", \"copywriting_guidelines\", \"reference_examples\", \"platform_specs\"], \n",
    "    partial_variables={\"format_instructions\": edition_output_parser.get_format_instructions()}\n",
    ")\n",
    "edition_chain = edition_prompt | model | edition_output_parser"
   ]
  },
  {
   "cell_type": "code",
   "execution_count": 11,
   "metadata": {},
   "outputs": [],
   "source": [
    "def format_feedback(reviews):\n",
    "    brand_review, copywriting_review, tov_review = reviews\n",
    "    return f\"\"\"Brand Feedback:\n",
    "{brand_review}\n",
    "\n",
    "Copywriting Feedback:\n",
    "{copywriting_review}\n",
    "\n",
    "Tone of Voice Feedback:\n",
    "{tov_review}\n",
    "\n",
    "\"\"\"\n",
    "\n",
    "write_product_description_chain = (\n",
    "    RunnablePassthrough.assign(generated_text=copywriting_chain)\n",
    "    | RunnablePassthrough.assign(reference_examples=itemgetter(\"reference_examples\") | RunnableLambda(format_examples))\n",
    "    | RunnablePassthrough.assign(\n",
    "        brand_review=brand_review_chain | itemgetter(\"feedback\"),\n",
    "        copywriting_review=copywriting_review_chain | itemgetter(\"feedback\"),\n",
    "        tov_review=tov_review_chain | itemgetter(\"feedback\")\n",
    "    ) | RunnablePassthrough.assign(feedback=itemgetter(\"brand_review\", \"copywriting_review\", \"tov_review\") | RunnableLambda(format_feedback))\n",
    "    | RunnablePassthrough.assign(edited_text=edition_chain | itemgetter(\"edited_text\"))\n",
    "    | itemgetter(\"edited_text\")\n",
    ")"
   ]
  },
  {
   "cell_type": "markdown",
   "metadata": {},
   "source": [
    "# Write Master"
   ]
  },
  {
   "cell_type": "markdown",
   "metadata": {},
   "source": [
    "## In French"
   ]
  },
  {
   "cell_type": "code",
   "execution_count": 12,
   "metadata": {},
   "outputs": [
    {
     "data": {
      "text/plain": [
       "\"LA CRÉATION\\nConçue par Christine Nagel, Galop d'Hermès incarne l'esprit artisanal et la maîtrise méticuleuse d'Hermès, évoquant une tradition de savoir-faire inégalée. « En me plongeant dans l'univers d'Hermès, j'ai redécouvert la féminité du cuir et l'ai harmonieusement associée à la rose, tissant un lien entre tradition et modernité », confie Christine Nagel.\\n\\nLES NOTES OLFACTIVES\\nGalop d'Hermès déploie un bouquet floral et cuiré, où la rose voluptueuse et sensuelle s'entrelace avec la douceur du cuir et le caractère épicé du safran, offrant une fragrance audacieuse et raffinée, qui célèbre le patrimoine équestre de la maison.\\n\\nL'OBJET\\nLe flacon-étrier, conçu par Philippe Mouquet, réinterprète le patrimoine équestre d'Hermès, fusionnant fonctionnalité et esthétique. Ce design, inspiré de l'étrier iconique, magnifie l'essence de Galop d'Hermès et enrichit le récit visuel par son élégance intemporelle.\\n\\nL'ÉTHIQUE\\nEngagé en faveur de la durabilité, le flacon est rechargeable et fabriqué avec des matériaux respectueux de l'environnement. Ce choix reflète l'engagement d'Hermès pour un luxe responsable, faisant écho à notre héritage artisanal tout en regardant vers l'avenir.\""
      ]
     },
     "execution_count": 12,
     "metadata": {},
     "output_type": "execute_result"
    }
   ],
   "source": [
    "write_product_description_chain.invoke({\n",
    "    \"role\": role, \n",
    "    \"persona\": persona, \n",
    "    \"language\": \"fr\",\n",
    "    \"product_name\": list(product_data[\"fr\"].keys())[0],\n",
    "    \"product_data\": product_data[\"fr\"][list(product_data[\"fr\"].keys())[0]],\n",
    "    \"brand_knowledge\": brand_knowledge,\n",
    "    \"copywriting_guidelines\": copywriting_guidelines,\n",
    "    \"reference_examples\": product_data[\"fr\"],\n",
    "    \"platform_specs\": hermes_specs,    \n",
    "})"
   ]
  },
  {
   "cell_type": "markdown",
   "metadata": {},
   "source": [
    "## In English"
   ]
  },
  {
   "cell_type": "code",
   "execution_count": 13,
   "metadata": {},
   "outputs": [
    {
     "data": {
      "text/plain": [
       "\"LA CRÉATION\\nEvoking an olfactory journey to Aswan's verdant garden isles, Un Jardin sur le Nil eau de toilette embodies the Nile's tales of life and abundance. Master perfumer Jean-Claude Ellena crafted this fragrance in 2005 as a tribute to the generous spirit and lush fertility of Egypt, infusing it with Hermès' enduring commitment to artisanal excellence and creative freedom.\\n\\nLES NOTES OLFACTIVES\\nA symphony of scents awaits with crisp green mango, intertwined with the subtle elegance of lotus flowers and the deep, earthy tones of sycamore. These notes harmonize to echo the vibrant life along the Nile, inviting a sensory exploration rich in freshness and complexity.\\n\\nL'OBJET\\nThe bottle, a masterpiece designed by Fred Rawyler, reflects the lanterns of horse-drawn carriages with its delicate green gradient, mirroring the lush banks of the Nile. Accompanied by a box adorned with a lotus illustration by Veronique de Mareuil, each detail celebrates the artisanal craftsmanship and cultural heritage that defines Hermès.\\n\\nLE DÉTAIL HERMÈS\\nThis creation is part of the Parfums-Jardins collection, encapsulating the soul of iconic locales. It reflects Hermès' commitment to sustainability and local communities, embodying a narrative that honors nature's beauty and the art of perfumery.\""
      ]
     },
     "execution_count": 13,
     "metadata": {},
     "output_type": "execute_result"
    }
   ],
   "source": [
    "write_product_description_chain.invoke({\n",
    "    \"role\": role, \n",
    "    \"persona\": persona, \n",
    "    \"language\": \"en\",\n",
    "    \"product_name\": list(product_data[\"en\"].keys())[0],\n",
    "    \"product_data\": product_data[\"en\"][list(product_data[\"en\"].keys())[0]],\n",
    "    \"brand_knowledge\": brand_knowledge,\n",
    "    \"copywriting_guidelines\": copywriting_guidelines,\n",
    "    \"reference_examples\": product_data[\"en\"],\n",
    "    \"platform_specs\": hermes_specs,    \n",
    "})"
   ]
  },
  {
   "cell_type": "markdown",
   "metadata": {},
   "source": [
    "---"
   ]
  },
  {
   "cell_type": "markdown",
   "metadata": {},
   "source": [
    "# Get Product Details"
   ]
  },
  {
   "cell_type": "code",
   "execution_count": 15,
   "metadata": {},
   "outputs": [
    {
     "data": {
      "text/plain": [
       "{'fr': {'Galop': \"LA CRÉATION\\nSigné par le parfumeur d'Hermès Christine Nagel en 2016, Galop d'Hermès s'inspire de l'univers équestre et incarne la liberté en mouvement : « Chez Hermès, j'ai découvert toute la féminité du cuir. J'ai composé Galop d'Hermès comme un tableau avec deux matières emblématiques d'Hermès et de la parfumerie : le cuir et la rose. »\\n\\nLES NOTES OLFACTIVES\\nFloral et cuiré, le parfum Galop d'Hermès développe les notes charnues de la rose et celles souples du cuir, au côté d'un safran racé.\\n\\nL'OBJET\\nDessiné par Philippe Mouquet, le flacon-étrier puise avec modernité dans la tradition équestre et l'histoire de la Maison.\\n\\nL'ÉTHIQUE\\nLe flacon se remplit grâce à une recharge de 125 ml munie d'un bouchon verseur en forme d'entonnoir parfaitement adapté à son col. Un geste responsable, indissociable d'un objet créé pour durer.\\n\\nLE DÉTAIL HERMÈS\\nInitialement créé pour être offert aux invités à l'inauguration du premier magasin Hermès de New York le 1er août 1930, l'objet était depuis précieusement gardé au Conservatoire des créations Hermès. Il a été redessiné pour devenir le flacon-étrier de Galop d'Hermès.\\n\",\n",
       "  'Voyage': 'LA CRÉATION\\nEn 2011, Jean-Claude Ellena signe Voyage d\\'Hermès Parfum, une réinterprétation intense et généreuse de la fragrance originelle. « Je me suis éloigné du principe de \"concentration\" de la formule pour m\\'intéresser à l\\'intensité des perceptions et à l\\'amplitude du sillage. »\\n\\nLES NOTES OLFACTIVES\\nBoisé et ambré, Voyage d\\'Hermès Parfum révèle une baie de genièvre revigorante mariée au caractère lacté et doux du bois de santal.\\n\\nL\\'OBJET\\nLe designer Philippe Mouquet a créé un objet singulier, inspiré d\\'une loupe de poche trouvée au hasard des chemins. Le flacon de verre noir s\\'habille d\\'un étrier couleur argent, orné du Clou de Selle emblématique.\\n\\nL\\'ÉTHIQUE\\nLe flacon se remplit à l\\'aide de la recharge de parfum Voyage d\\'Hermès 125 ml. Un geste responsable, indissociable d\\'un objet créé pour durer.\\n\\nLE DÉTAIL HERMÈS\\nDepuis la fondation par Thierry Hermès d\\'une manufacture de harnais et de selles à Paris en 1837, Hermès est l\\'artisan du mouvement et accompagne le voyage. Ce thème inspire la création et anime la culture de la Maison.\\n',\n",
       "  'Jardin sur le nil': \"LA CRÉATION\\nCréé en 2005, l'eau de toilette Un Jardin sur le Nil évoque un voyage olfactif dans les îles-jardins à Assouan en Égypte. Le parfumeur Jean-Claude Ellena raconte dans cette composition ce fleuve synonyme de vie et de générosité.\\n\\nLES NOTES OLFACTIVES\\n\\nVerte et boisée, l'eau de toilette Un Jardin sur le Nil mêle une mangue verte acidulée, un lotus délicat et un sycomore élégant.\\n\\nL'OBJET\\nDessiné par Fred Rawyler, le flacon s'inspire des lignes des lanternes des voitures d'antan. Le verre du flacon s'anime d'un délicat dégradé vert à l'image des rives du Nil. L'étui est illustré d'un lotus en fleur sous le pinceau de l'artiste Véronique de Mareuil.\\n\\nLA COLLECTION PARFUMS-JARDINS\\nLa collection des Parfums-Jardins signe la rencontre entre l'âme d'un lieu, l'inspiration du parfumeur et le thème que se choisit la maison Hermès chaque année pour éclairer sa création. Une promenade olfactive à partager pour chaque moment, pour des envies de fraîcheur, de rêverie et d'évasion.\\n\",\n",
       "  'Caleche': \"LA CRÉATION\\nComposé par le parfumeur Guy Robert en 1961, Calèche est le premier parfum féminin d'Hermès. Son nom fait écho à l'attelage emblématique de la Maison : la voiture hippomobile du XIXe siècle, élégante et légère.\\n\\nLES NOTES OLFACTIVES\\nFragrance florale et aldéhydée, l'eau de toilette Calèche réunit avec une grande féminité la finesse des aldéhydes, l'ondulation d'un jasmin et la légèreté d'une rose.\\n\\nL'OBJET\\nInspiré des lanternes des voitures d'antan, le flacon est coiffé d'un capot noir faisant écho à la bombe des cavaliers. Signe d'appartenance à la collection des Parfums-Fondateurs, l'étiquette au dos est illustrée d'un dessin de Philippe Dumas.\\n\\nLA COLLECTION DES PARFUMS-FONDATEURS\\nLa collection des Parfums-Fondateurs puise son inspiration dans le patrimoine de la Maison. Chaque création concentre l'imaginaire d'Hermès en un nom, une fragrance, une couleur. Au fil des ans, Hermès a écrit les pages d'une parfumerie audacieuse, née de la rencontre avec des parfumeurs d'exception.\\n\",\n",
       "  'Jardin a cythere': 'Les Parfums-Jardins\\nÉchos aux thèmes annuels imaginés par la maison, les Parfums-Jardins sont nés de la rencontre entre l’âme d’un lieu, l’esprit d’Hermès et l’inspiration du parfumeur. Pour chaque moment, une promenade olfactive à partager pour des envies de fraîcheur, de rêverie et d’évasion.\\n\\nL’inspiration\\nHermès célèbre l’étonnement et nous invite à la découverte d’un jardin singulier, ni vert ni fleuri, mais... blond : Un Jardin à Cythère.\\nL’expression d’une quête olfactive à travers le Péloponnèse,qui mène à Cythère, une île grecque préservée ayant inspiré de nombreux artistes.\\nUn parfum baigné de soleil où les senteurs des graminées dorées se mêlent à la force du bois d’olivier et à la tendresse de la pistache fraîche.\\n\\nLa fragrance\\nHespéridé, boisé.\\nUn jardin blond, enveloppant et étonnant.\\nÉvocation de graminées enveloppantes, de bois d’olivier vigoureux et de pistache fraîche.\\n\\nL’étui\\nArtiste et dessinateur de carrés pour la maison,Elias Kafouros est véritablement épris de sa terre natale, la Grèce. Il représente sur cet étui sa vision authentique du paysage hellénique.\\nL’illustration nous invite à contempler l’herbe dorée réchauffée par le soleil et caressée par le vent, les nuances de vert des oliviers, le rose des pistaches fraîches et le bleu de la mer.\\n\\nLe flacon\\nL’emblématique flacon «lanterne» est infusé d’un jaune chaud et lumineux,écho à la fragrance. Un flacon gorgé de soleil.\\n',\n",
       "  'Jour': \"LA CRÉATION\\nComposition féminine et intemporelle, Jour d'Hermès a été créé en 2012 par le parfumeur Jean-Claude Ellena : « J'ai voulu exprimer par les fleurs, et rien que les fleurs, l'essence de la féminité. »\\n\\nLES NOTES OLFACTIVES\\nL'eau de parfum Jour d'Hermès est une fragrance florale. Elle convoque la sensualité du gardénia et la délicatesse du pois de senteur dans une harmonie parfaite.\\n\\nL'OBJET\\nDessiné par le designer Pierre Hardy, le flacon s'épanouit en courbes rondes et sensuelles. Au centre, une goutte de parfum lumineuse en suspension.\\n\\nL'ÉTHIQUE\\nLe flacon se remplit à l'aide de la recharge d'eau de parfum 125 ml. Un geste responsable, indissociable d'un objet créé pour durer.\\n\\nLE DÉTAIL HERMÈS\\nOutil essentiel à l'ouvrage de l'artisan, la lumière, chez Hermès, est la première des matières. Elle anime, donne vie aux objets et révèle la beauté du monde. Cette lumière a inspiré le plus essentiel des parfums, Jour d'Hermès.\\n\",\n",
       "  'Eau des merveilles': \"LA CRÉATION\\nCréée par les parfumeurs Ralf Schwieger et Nathalie Feisthauer, l'eau de toilette Eau des Merveilles ouvre sur le merveilleux d'Hermès. Un monde où l'extraordinaire se révèle avec une pluie d'étoiles en plein jour.\\n\\nLES NOTES OLFACTIVES\\nUne eau de toilette boisée et ambrée, qui mêle le benjoin enveloppant, l'élémi épicé et la bigarade pétillante.\\n\\nL'OBJET\\nDessiné par Serge Mansau, le flacon loupe étoilé fait scintiller une lumière orangée, de l'intense à l'aérien. Sur le dessus du spray, apparaît gravé le sceau clou de selle de la maison. Le format 30 ml est la clé pour ouvrir l'imaginaire partout et à tout instant.\\n\\nL'ÉTHIQUE\\nLe flacon est rechargeable. Un geste responsable, indissociable d'un objet créé pour durer.\\n\",\n",
       "  'Eau d orange verte': \"LA CRÉATION\\nLa toute première cologne de la maison Hermès est signée Françoise Caron en 1979. Elle est d'abord appelée Eau de cologne Hermès, avant d'être renommée Eau d'orange verte en 1997. Devenue emblématique, elle se distingue par sa fraîcheur vive et verte.\\n\\nLES NOTES OLFACTIVES\\nLa cologne Eau d'orange verte allie une orange éclatante, à la fraîcheur de la menthe et aux notes boisées de la mousse.\\n\\nL'OBJET\\nLe flacon lanterne emblématique se pare d'un vert profond. Sur la boîte orange, un bandeau tout en contraste rappelle la couleur du flacon.\\n\\nLA COLLECTION DES COLOGNES HERMÈS\\nTerrain de jeu infini autant que virtuose, la collection des Colognes Hermès explore la sensorialité des matières. Elle signe un plaisir immédiat et généreux, qui rassemble au-delà des genres, des modes, des âges ou des saisons.\\n\",\n",
       "  'Tutti twilly': \"LA CRÉATION\\nImaginée par Christine Nagel pour les filles d'Hermès, l'eau de parfum Tutti Twilly d'Hermès est un hommage à leur esprit libre, fait d'audace et de légèreté, et à leur pluralité. Toutes différentes, elles se retrouvent dans ce parfum.\\n\\nLES NOTES OLFACTIVES\\nUne eau de parfum florale et fruitée au caractère généreux tressée d'une fleur de gingembre douce, d'un litchi moelleux et d'un musc enveloppant.\\n\\nL'OBJET\\nDessiné par Florence Manlik, le flacon-lanterne emblématique est coupé au carré et se pare d'un dégradé inversé rouge litchi. Son capot blanc s'habille d'un lien de soie signé de Carine Brancowitz. Noué à la main, chaque lien de soie est unique. Le format 30 ml permet d'emporter partout avec soi les notes de Tutti Twilly, pour diffuser l'esprit libre des filles d'Hermès.\\n\\nLE DÉTAIL HERMÈS\\nLe nom de la tribu parfumée Twilly d'Hermès évoque le métier de la soie Hermès : le Twilly, petit ruban joyeux et coloré aux multiples portés, est le détournement du carré en twill de soie de la Maison.\\n\",\n",
       "  'Terre d Hermès': \"LA CRÉATION\\nEn 2006, Jean-Claude Ellena crée Terre d'Hermès, une eau reliant l'homme à ses origines, aux sources de sa puissance créatrice. Terre d'Hermès raconte la relation de l'homme à la terre, son dialogue humble et harmonieux avec la nature et les éléments.\\nDepuis 2016, Christine Nagel, parfumeur d'Hermès, pose son regard sur Terre pour en explorer les nouveaux possibles.\\n\\nLES NOTES OLFACTIVES\\nFragrance minérale et boisée, Terre d'Hermès allie la puissance du cèdre et l'éclat du pamplemousse à une note de silex vibrante.\\n\\nL'OBJET\\nCôté sol, le flacon est posé sur un H orange. Il marque son empreinte dans la terre. Côté ciel, la lumière se reflète sur les épaules métalliques. Entre les deux, la transparence de l'eau.\\n\\nLE DÉTAIL HERMÈS\\nUne fois en main, le flacon Terre d'Hermès dévoile de nombreux détails : le Clou de Selle emblématique de la Maison, le capot que l'on coulisse pour libérer le spray, etc.\\nCréé par le designer Philippe Mouquet, il s'inspire d'un flacon de nécessaire de voyage, conservé au musée Emile Hermès.\\n\"},\n",
       " 'en': {'Galop': \"CREATION\\nCreated in 2005, Un Jardin sur le Nil eau de toilette evokes an olfactory journey to the garden islands in Aswan, Egypt. In this composition, perfumer Jean-Claude Ellena tells of this river synonymous with life and generosity.\\n\\nOLFACTORY NOTES\\n\\nGreen and woody, Un Jardin sur le Nil eau de toilette combines tangy green mango with delicate lotus and elegant sycamore.\\n\\nTHE OBJECT\\nDesigned by Fred Rawyler, the bottle is inspired by the lines of horse-drawn carriage lanterns. Its glass is in a delicate green gradient, evoking the banks of the Nile. The box is illustrated with a lotus flower by artist Veronique de Mareuil.\\n\\nTHE PARFUMS-JARDINS COLLECTION\\nThe Parfums-Jardins collection brings together the soul of a place, the perfumer's inspiration and the theme chosen by Hermès each year to nourish its creativity. They are olfactory strolls to share for every moment, to indulge every desire for freshness, reverie or escape.\\n\",\n",
       "  'Voyage': 'CREATION\\nIn 2011, Jean-Claude Ellena created Voyage d\\'Hermès Parfum, an intense and generous reinterpretation of the original fragrance. \"I moved away from the idea of \\'concentrating\\' the formula to focus on the intensity of perceptions and the magnitude of the fragrance trail.\"\\n\\nOLFACTORY NOTES\\nWith a woody and amber character, Voyage d\\'Hermès Parfum reveals invigorating juniper berry blended with sweet and milky sandalwood.\\n\\nTHE OBJECT\\nDesigner Philippe Mouquet created a unique object inspired by a pocket magnifying glass found by chance. The black glass bottle is encased in a silver-colored stirrup and decorated with the emblematic Clou de Selle.\\n\\nETHICS\\nThe bottle can be replenished using the 125 ml Voyage d\\'Hermès Parfum refill. A responsible gesture, integral to an object created to last.\\n\\nTHE HERMÈS DETAIL\\nHermès has been an artisan of movement and a valued companion for travelers ever since Thierry Hermès founded a harness and saddlery business in Paris in 1837. This theme underpins the House\\'s creativity and inspires its culture.\\n',\n",
       "  'Jardin sur le nil': \"CREATION\\nCreated in 2005, Un Jardin sur le Nil eau de toilette evokes an olfactory journey to the garden islands in Aswan, Egypt. In this composition, perfumer Jean-Claude Ellena tells of this river synonymous with life and generosity.\\n\\nOLFACTORY NOTES\\n\\nGreen and woody, Un Jardin sur le Nil eau de toilette combines tangy green mango with delicate lotus and elegant sycamore.\\n\\nTHE OBJECT\\nDesigned by Fred Rawyler, the bottle is inspired by the lines of horse-drawn carriage lanterns. Its glass is in a delicate green gradient, evoking the banks of the Nile. The box is illustrated with a lotus flower by artist Veronique de Mareuil.\\n\\nTHE PARFUMS-JARDINS COLLECTION\\nThe Parfums-Jardins collection brings together the soul of a place, the perfumer's inspiration and the theme chosen by Hermès each year to nourish its creativity. They are olfactory strolls to share for every moment, to indulge every desire for freshness, reverie or escape.\\n\",\n",
       "  'Caleche': \"CREATION\\nCreated by perfumer Guy Robert in 1961, Hermès' first fragrance for women, Caleche, was reinterpreted in 1992 as Caleche soie de parfum, the name of which refers to the horse-drawn carriages that are emblematic of the House and its silk metier.\\n\\nOLFACTORY NOTES\\nFloral with aldehyde aromas, Caleche Soie de Parfum combines the refined notes of aldehyde with opulent jasmine and generous rose.\\n\\nTHE OBJECT\\nThe bottle, inspired by the lanterns of horse-drawn carriages, has a black cap reminiscent of a riding hat. The back label is illustrated with a design by Philippe Dumas, indicating that it belongs to the Parfums-Fondateurs collection.\\n\\nTHE PARFUMS-FONDATEURS COLLECTION\\nThe Parfums-Fondateurs collection draws inspiration from the House's heritage. Each creation encapsulates Hermès' imaginary world in a name, a fragrance and a color. Over the years, Hermès has pioneered a bold style of perfumery, resulting from encounters with exceptional perfumers.\\n\",\n",
       "  'Jardin a cythere': \"CREATION\\nCreated by Hermès' perfumer Christine Nagel, Un Jardin a Cythere eau de toilette is a surprising garden that is neither green nor floral, but... blond. It is the expression of an olfactory quest through Greece that leads to Kythira, a picturesque island that has inspired many artists.\\n\\nOLFACTORY NOTES\\nA citrus and woody fragrance, Un Jardin a Cythere eau de toilette combines enveloping notes of grasses with the strength of olive wood and the tenderness of fresh pistachio.\\n\\nTHE OBJECT\\nDesigned by Fred Rawyler, the bottle is inspired by the lines of the horse-drawn carriage lanterns of yesteryear. The luminous yellow glass echoes the sunny fragrance. On the box, artist Elias Kafouros sketches a colorful landscape of his homeland: golden grasses, green olive trees, fresh pink pistachios and in the background, the blue of the sea.\\n\\nTHE PARFUMS-JARDINS COLLECTION\\nThe Parfums-Jardins collection brings together the soul of a place, the perfumer's inspiration and the annual theme selected by Hermès. An aromatic journey for every moment, satisfying every desire for freshness, reverie or escape.\\n\",\n",
       "  'Jour': 'CREATION\\nJour d\\'Hermès is a timeless, feminine composition that was created in 2012 by perfumer Jean-Claude Ellena: \"I wanted to express the essence of femininity through flowers, and flowers alone.\"\\n\\nOLFACTORY NOTES\\nJour d\\'Hermès eau de parfum is a floral fragrance. It evokes the sensuality of gardenia and the delicacy of sweet peas in a perfectly orchestrated harmony.\\n\\nTHE OBJECT\\nCreated by designer Pierre Hardy, the bottle displays rounded, sensual curves. At the center, a radiant drop of perfume hangs suspended.\\n\\nETHICS\\nThe bottle can be replenished using the 125 ml eau de parfum refill. A responsible gesture, integral to an object created to last.\\n\\nTHE HERMÈS DETAIL\\nAn essential tool for the artisan\\'s work, light is the primary material at Hermès. It energizes objects and brings them to life, while revealing the beauty of the world. It is this light that inspired Jour d\\'Hermès, the most vital of fragrances.\\n',\n",
       "  'Eau des merveilles': \"THE CREATION\\nCreated by perfumers Ralf Schwieger and Nathalie Feisthauer, Eau des Merveilles eau de toilette showcases the wonders of Hermès. A world where the extraordinary is revealed with a shower of stars in broad daylight.\\n\\nOLFACTORY NOTES\\nThe woody and amber eau de toilette blends enveloping benzoin, spicy elemi and sparkling bigarade orange.\\n\\nBOTTLE\\nDesigned by Serge Mansau, the star-spangled magnifying-glass bottle twinkles with an orange light that shifts from intense to ethereal. The top of the spray is engraved with the House's Clou de Selle seal.\\n\\nTHE EAU DES MERVEILLES CONSTELLATION\\nThis first opus of the Hermès Merveilles collection invites you to discover a world of enchantment with your feet on the ground and head in the stars. An olfactory constellation revealing the house's poetic view of the world.\\n\",\n",
       "  'Eau d orange verte': \"CREATION\\nThe very first Hermès cologne was created by Françoise Caron in 1979. It was initially called Eau de cologne Hermès, before being renamed Eau d'orange verte in 1997. Now iconic, it stands out for its vivid green freshness.\\n\\nOLFACTORY NOTES\\nThe Eau d'orange verte cologne combines vibrant orange with fresh mint and woody notes of moss.\\n\\nTHE OBJECT\\nThe iconic lantern bottle is adorned with a deep green. On the orange box, a vividly contrasting band recalls the color of the bottle.\\n\\nTHE HERMÈS COLOGNES COLLECTION\\nThe Hermès Colognes collection offers a playground that is as infinite as it is masterly for exploring the sensory nature of materials. It brings immediate and abundant pleasure that unifies beyond genres, fashions, ages or seasons.\\n\",\n",
       "  'Tutti twilly': \"THE CREATION\\nCreated by Christine Nagel for the Hermès girls, Tutti Twilly d'Hermès eau de parfum is a tribute to their free spirit – a blend of daring and lightheartedness – and their multifaceted nature. Individuality is reflected in this fragrance.\\n\\nOLFACTORY NOTES\\nA floral and fruity eau de parfum with a generous character crafted with gentle ginger blossom, mellow lychee, and enveloping musk notes.\\n\\nBOTTLE\\nDesigned by Florence Manlik, the lantern-shaped bottle has a square silhouette, adorned with an inverted lychee-red color graduation. With a final flourish, a hand-tied silk ribbon playfully embellishes the cap of each bottle designed by Carine Brancowitz. Each silk ribbon is unique. Its 30 ml format allows you to take the notes of Tutti Twilly with you while on the go to diffuse the sparkle of the Hermès girls anywhere and everywhere.\\n\\nTHE HERMÈS DETAIL\\nThe Twilly d'Hermès family of perfumes evokes the Hermès silk métier on two fronts: it calls to mind the house's silk twill scarf as well as the Twilly, a small, joyful, colorful silk ribbon that can be worn in countless ways.\\n\",\n",
       "  'Terre d Hermès': \"THE CREATION\\nTerre d'Hermès tells the story of man's relationship with the earth, his humble and harmonious dialogue with nature and the elements.\\nIn 2009, Jean-Claude Ellena infused Terre d'Hermès with a new density by creating Terre d'Hermès Parfum.\\n\\nOLFACTORY NOTES\\nA warm, woody fragrance, Terre d'Hermès Parfum combines enveloping cedar and sparkling grapefruit with a radiant note of shiso.\\n\\nTHE OBJECT\\nAt its base, the bottle rests on a more visible orange H – echoing the deeper color of the fragrance – which leaves its imprint on the earth. At the top, the light is reflected by the bottle's metal shoulders.\\n\\nTHE HERMÈS DETAIL\\nWhen held in the hand, the Terre d'Hermès Parfum bottle unveils its many details: the House's iconic Clou de Selle, the sliding cover used to release the spray, etc.\\nCreated by designer Philippe Mouquet, it is inspired by a bottle in a travel vanity case that is conserved at the Emile Hermès museum.\\n\"}}"
      ]
     },
     "execution_count": 15,
     "metadata": {},
     "output_type": "execute_result"
    }
   ],
   "source": [
    "product_data"
   ]
  },
  {
   "cell_type": "code",
   "execution_count": 24,
   "metadata": {},
   "outputs": [],
   "source": [
    "product_description_system_prompt = \"\"\"{role}\n",
    "\n",
    "You are helping the Hermès Product Detail Page copywriting team. They told you they need you to provide them with product description, object description and additional information that captures the information in existing product detail pages.\n",
    "\"\"\"\n",
    "\n",
    "product_description_human_prompt = \"\"\"Please provide a product description for {product_name} in {language} based on the existing product detail page:\n",
    "<product_detail_page>\n",
    "{product_detail_page}\n",
    "</product_detail_page>\n",
    "\n",
    "The product description should capture all the necessary information that would help the Hermès copywriters to write new product detail pages for this product. \n",
    "You must structure this info into 3 sections : product description, object description and additional info (for additional info like quotes and key dates). \n",
    "Use short and concise sentences and focus on the information.\n",
    "Make sure all the necessary info to write the product detail page is in your descriptions. \n",
    "\n",
    "{format_instructions}\n",
    "\"\"\""
   ]
  },
  {
   "cell_type": "code",
   "execution_count": 25,
   "metadata": {},
   "outputs": [],
   "source": [
    "class ProductDetails(BaseModel):\n",
    "    product_description: str = Field(description=\"The description of the product\")\n",
    "    object_description: str = Field(description=\"The description of the object\")\n",
    "    additional_info: str = Field(description=\"Additional info about the product\")\n",
    "    \n",
    "product_description_output_parser = JsonOutputParser(pydantic_object=ProductDetails)\n",
    "\n",
    "product_description_prompt = ChatPromptTemplate(\n",
    "    messages = [\n",
    "        SystemMessagePromptTemplate.from_template(product_description_system_prompt),\n",
    "        HumanMessagePromptTemplate.from_template(product_description_human_prompt)\n",
    "    ],\n",
    "    input_variables=[\"role\", \"persona\", \"product_name\", \"language\", \"product_detail_page\"],\n",
    "    partial_variables={\"format_instructions\": product_description_output_parser.get_format_instructions()}\n",
    ")\n",
    "\n",
    "product_description_chain = product_description_prompt | model | product_description_output_parser"
   ]
  },
  {
   "cell_type": "code",
   "execution_count": 26,
   "metadata": {},
   "outputs": [],
   "source": [
    "def describe_product(product_name, language):\n",
    "    return product_description_chain.invoke({\n",
    "        \"role\": role,\n",
    "        \"product_name\": product_name,\n",
    "        \"language\": language,\n",
    "        \"product_detail_page\": product_data[language][product_name]\n",
    "    })"
   ]
  },
  {
   "cell_type": "code",
   "execution_count": 27,
   "metadata": {},
   "outputs": [],
   "source": [
    "product_description = {\"en\": {}, \"fr\": {}}\n",
    "\n",
    "for lang in product_description:\n",
    "    for product in product_data[lang]:\n",
    "        product_desc = describe_product(product, lang)\n",
    "        product_description[lang][product] = product_desc"
   ]
  },
  {
   "cell_type": "code",
   "execution_count": 28,
   "metadata": {},
   "outputs": [
    {
     "data": {
      "text/plain": [
       "{'en': {'Galop': {'product_description': 'Created in 2005, Un Jardin sur le Nil eau de toilette evokes an olfactory journey to the garden islands of Aswan, Egypt. This fragrance, crafted by perfumer Jean-Claude Ellena, encapsulates the essence of the Nile, symbolizing life and generosity. It features a blend of green mango, lotus, and sycamore, presenting a green and woody profile.',\n",
       "   'object_description': \"The bottle, designed by Fred Rawyler, draws inspiration from horse-drawn carriage lanterns and features a delicate green gradient glass that echoes the Nile's banks. The packaging, adorned with a lotus flower illustration by Veronique de Mareuil, complements the theme.\",\n",
       "   'additional_info': \"Part of the Parfums-Jardins collection, Un Jardin sur le Nil is designed to embody the soul of a location, inspired by the perfumer's vision and Hermès' annual creative theme. This collection is intended for those seeking olfactory experiences that offer freshness, dreams, or an escape.\"},\n",
       "  'Voyage': {'product_description': \"Voyage d'Hermès Parfum, crafted by Jean-Claude Ellena in 2011, is a powerful reinterpretation of its original fragrance. It moves beyond mere concentration, focusing on the depth of sensory experiences and a pronounced sillage. The scent is characterized by a woody and amber foundation, featuring invigorating juniper berry and a sweet, milky sandalwood.\",\n",
       "   'object_description': \"The perfume bottle, designed by Philippe Mouquet, draws inspiration from a serendipitously found pocket magnifying glass. It features a sleek, black glass encased in a silver-colored stirrup, accented with Hermès' signature Clou de Selle.\",\n",
       "   'additional_info': \"Jean-Claude Ellena's quote on the creation process emphasizes the fragrance's intensity and trail. The bottle is designed to be sustainable, offering a 125 ml refill option. Hermès' historical connection to travel since 1837, initiated by Thierry Hermès with his harness and saddlery business, continues to inspire its products.\"},\n",
       "  'Jardin sur le nil': {'product_description': \"Created in 2005, Un Jardin sur le Nil eau de toilette is an olfactory journey to the garden islands of Aswan, Egypt. This fragrance by Jean-Claude Ellena encapsulates the essence of the Nile's life-giving and generous nature. It features a green and woody scent, blending tangy green mango with delicate lotus flowers and elegant sycamore.\",\n",
       "   'object_description': \"The design of the bottle, crafted by Fred Rawyler, draws inspiration from the lines of horse-drawn carriage lanterns and features a delicate green gradient glass that evokes the Nile's banks. The packaging is adorned with a lotus flower illustration by artist Veronique de Mareuil.\",\n",
       "   'additional_info': 'Part of the Parfums-Jardins collection, Un Jardin sur le Nil connects the soul of its location with the thematic inspiration defined annually by Hermès to fuel its creativity. These fragrances are designed as olfactory strolls, offering moments of freshness, reverie, or escape.'},\n",
       "  'Caleche': {'product_description': \"Caleche, Hermès' inaugural fragrance for women, was crafted by perfumer Guy Robert in 1961 and reinterpreted in 1992 as Caleche soie de parfum. This edition, whose name signifies the iconic horse-drawn carriages of Hermès, melds aldehyde with opulent jasmine and generous rose to create a floral scent with aldehyde aromas.\",\n",
       "   'object_description': 'The design of the Caleche Soie de Parfum bottle is inspired by the lanterns found on horse-drawn carriages, featuring a black cap that echoes a riding hat. The back label is adorned with artwork by Philippe Dumas, situating this fragrance within the Parfums-Fondateurs collection.',\n",
       "   'additional_info': \"Caleche is part of the Parfums-Fondateurs collection, which celebrates Hermès' rich heritage through fragrances that embody the House's imaginative essence in names, scents, and colors. This collection is a testament to Hermès' pioneering spirit in perfumery, shaped by collaborations with exceptional perfumers.\"},\n",
       "  'Jardin a cythere': {'product_description': 'Un Jardin a Cythere eau de toilette, crafted by Hermès perfumer Christine Nagel, encapsulates the essence of Kythira, Greece. This unique, blond fragrance diverges from traditional green or floral scents, offering a blend of citrus and woody notes. It features the enveloping aroma of grasses, the robust presence of olive wood, and the delicate freshness of pistachio.',\n",
       "   'object_description': 'The eau de toilette is encased in a bottle designed by Fred Rawyler, drawing inspiration from historical horse-drawn carriage lanterns. Its luminous yellow glass mirrors the sunny essence of the perfume. The accompanying box, illustrated by artist Elias Kafouros, depicts the vibrant Greek landscape with golden grasses, green olive trees, pink pistachios, and the distant blue sea.',\n",
       "   'additional_info': \"Part of the Parfums-Jardins collection, Un Jardin a Cythere reflects Hermès' annual theme and the soulful exploration of specific locales. This collection promises an aromatic journey, ideal for those who seek freshness, reverie, or an olfactory escape.\"},\n",
       "  'Jour': {'product_description': \"Jour d'Hermès is a floral eau de parfum, celebrating femininity with a harmonious blend of gardenia and sweet peas. Created in 2012 by Jean-Claude Ellena, it aims to capture the essence of femininity exclusively through flowers.\",\n",
       "   'object_description': 'The perfume bottle, designed by Pierre Hardy, features sensual, rounded curves with a distinctive suspended drop of perfume at its center, highlighting its elegance and unique design.',\n",
       "   'additional_info': \"Jean-Claude Ellena described his creation as a representation of femininity through flowers alone. The bottle is refillable with a 125 ml eau de parfum refill, emphasizing sustainability. Hermès views light as a fundamental element that brings objects to life and inspires creations like Jour d'Hermès.\"},\n",
       "  'Eau des merveilles': {'product_description': 'Eau des Merveilles, created by Ralf Schwieger and Nathalie Feisthauer, is an eau de toilette that showcases the wonders of Hermès with a blend of woody and amber notes. It features enveloping benzoin, spicy elemi, and sparkling bigarade orange, presenting a world where the extraordinary is revealed in broad daylight.',\n",
       "   'object_description': 'The bottle, designed by Serge Mansau, is adorned with a star-spangled magnifying-glass motif and twinkles with an orange light. The intensity of the light shifts from intense to ethereal, while the top of the spray is engraved with the Hermès Clou de Selle seal.',\n",
       "   'additional_info': \"Eau des Merveilles is the first opus of the Hermès Merveilles collection, inviting users on an enchanting journey with feet on the ground and head in the stars. This fragrance is part of an olfactory constellation that reveals the house's poetic view of the world.\"},\n",
       "  'Eau d orange verte': {'product_description': \"Eau d'orange verte, originally named Eau de cologne Hermès, was crafted by Françoise Caron in 1979 and renamed in 1997. This cologne is celebrated for its distinctive green freshness, blending vibrant orange with fresh mint and earthy moss notes.\",\n",
       "   'object_description': \"The cologne is presented in the iconic lantern bottle tinted in deep green, encased within an orange box featuring a contrasting band that echoes the bottle's color.\",\n",
       "   'additional_info': 'Key creation date: 1979. Renamed in 1997. Part of the Hermès Colognes collection, which explores sensory experiences transcending genres, fashions, ages, and seasons.'},\n",
       "  'Tutti twilly': {'product_description': \"Tutti Twilly d'Hermès eau de parfum, created by Christine Nagel, celebrates the Hermès girls' free and daring spirit. This floral and fruity fragrance combines gentle ginger blossom, mellow lychee, and enveloping musk to reflect their individuality and vibrant character.\",\n",
       "   'object_description': 'The perfume is presented in a lantern-shaped bottle designed by Florence Manlik, featuring a square silhouette with an inverted lychee-red color graduation. Adorned with a hand-tied silk ribbon by Carine Brancowitz, each ribbon is unique. The compact 30 ml size ensures portability.',\n",
       "   'additional_info': \"Part of the Twilly d'Hermès family, this perfume draws inspiration from Hermès' silk craftsmanship, reminiscent of the house's iconic silk twill scarves and the versatile Twilly ribbon.\"},\n",
       "  'Terre d Hermès': {'product_description': \"Terre d'Hermès Parfum is a narrative of man's profound connection to the earth, articulated through a dialogue with nature and the elements. Launched by Jean-Claude Ellena in 2009, this fragrance intensifies the original Terre d'Hermès with a richer, deeper composition. It harmoniously blends the warmth of cedar, the brightness of grapefruit, and the unique radiance of shiso, creating a woody and enveloping scent.\",\n",
       "   'object_description': \"The design of the Terre d'Hermès Parfum bottle is both functional and symbolic. It features a prominent orange H at its base, symbolizing the fragrance's intensity and its connection to Hermès. The metal shoulders of the bottle reflect light, enhancing its aesthetic appeal. Its practical elements include the iconic Clou de Selle and a sliding cover for the spray mechanism.\",\n",
       "   'additional_info': \"The Terre d'Hermès Parfum bottle was designed by Philippe Mouquet and takes inspiration from a historical piece housed in the Emile Hermès museum, specifically a bottle from a travel vanity case. This design echoes the heritage and meticulous craftsmanship of Hermès.\"}},\n",
       " 'fr': {'Galop': {'product_description': \"Créé en 2016 par Christine Nagel, Galop d'Hermès est un parfum qui puise son inspiration dans l'univers équestre, symbolisant la liberté en mouvement. Il marie harmonieusement les notes florales de la rose avec la texture souple du cuir, rehaussées par l'élégance du safran.\",\n",
       "   'object_description': \"Le flacon-étrier, oeuvre de Philippe Mouquet, réinterprète avec modernité les codes équestres et l'héritage d'Hermès. Conçu pour être durable, son design permet une recharge efficace grâce à une recharge de 125 ml adaptée.\",\n",
       "   'additional_info': \"Christine Nagel décrit Galop d'Hermès comme un tableau qui célèbre deux matières emblématiques : le cuir et la rose. Le flacon initial, créé pour l'ouverture du premier magasin Hermès à New York le 1er août 1930, a été conservé avant d'être redessiné pour Galop d'Hermès.\"},\n",
       "  'Voyage': {'product_description': \"Créé en 2011 par Jean-Claude Ellena, Voyage d'Hermès Parfum est une réinterprétation intense et généreuse de la fragrance originelle. Il offre un sillage riche avec des notes boisées et ambrées, combinant la fraîcheur de la baie de genièvre avec la douceur du bois de santal.\",\n",
       "   'object_description': \"Le flacon, œuvre de Philippe Mouquet, s'inspire d'une loupe de poche et se pare d'un étrier argenté surmonté du Clou de Selle emblématique. Réalisé en verre noir, le design du flacon allie fonctionnalité et esthétique, avec une recharge de 125 ml disponible pour prolonger son usage.\",\n",
       "   'additional_info': \"« Je me suis éloigné du principe de 'concentration' de la formule pour m'intéresser à l'intensité des perceptions et à l'amplitude du sillage. » - Jean-Claude Ellena. Hermès valorise l'éthique du durable, permettant au flacon de se recharger. Hermès, fondé en 1837, reste fidèle à son héritage de compagnon de voyage.\"},\n",
       "  'Jardin sur le nil': {'product_description': \"Créé en 2005, Un Jardin sur le Nil est une eau de toilette incarnant un voyage olfactif au cœur des îles-jardins d'Assouan en Égypte. Cette fragrance, conçue par le parfumeur Jean-Claude Ellena, célèbre la vie et la générosité du fleuve Nil à travers des notes vertes et boisées, mélangeant mangue verte acidulée, lotus délicat et sycomore élégant.\",\n",
       "   'object_description': \"Le flacon, dessiné par Fred Rawyler, s'inspire des lanternes des voitures d'antan avec un verre délicatement dégradé de vert, évoquant les rives du Nil. L'étui est orné d'une illustration d'un lotus en fleur, réalisée par l'artiste Véronique de Mareuil.\",\n",
       "   'additional_info': \"La collection Parfums-Jardins, dont fait partie Un Jardin sur le Nil, illustre la fusion entre l'âme d'un lieu et l'inspiration du parfumeur, sous un thème annuel choisi par Hermès pour enrichir sa création. Cette collection offre une expérience olfactive qui évoque fraîcheur, rêverie et évasion.\"},\n",
       "  'Caleche': {'product_description': \"Créé en 1961 par le parfumeur Guy Robert, Calèche est le premier parfum féminin d'Hermès, évoquant l'élégance des voitures hippomobiles du XIXe siècle. Cette fragrance florale et aldéhydée mêle habilement la finesse des aldéhydes, le parfum envoûtant du jasmin et la légèreté de la rose, incarnant une féminité raffinée et intemporelle.\",\n",
       "   'object_description': \"Le flacon de Calèche s'inspire des lanternes des voitures d'antan, surmonté d'un capot noir rappelant la bombe des cavaliers. L'étiquette au dos, ornée d'un dessin de Philippe Dumas, marque son appartenance à la prestigieuse collection des Parfums-Fondateurs.\",\n",
       "   'additional_info': \"La collection des Parfums-Fondateurs, dont fait partie Calèche, puise son inspiration dans le riche patrimoine d'Hermès. Cette série célèbre l'audace et l'innovation, reflétant la rencontre entre Hermès et les parfumeurs d'exception qui ont façonné son histoire olfactive.\"},\n",
       "  'Jardin a cythere': {'product_description': \"Hermès célèbre l'étonnement avec 'Un Jardin à Cythère', une fragrance évoquant un jardin singulier, ni vert ni fleuri, mais blond. Inspiré par Cythère, une île grecque, ce parfum mêle les senteurs de graminées dorées, de bois d'olivier et de pistache fraîche, offrant une promenade olfactive au cœur du Péloponnèse. Hespéridé et boisé, il est idéal pour ceux en quête de fraîcheur et d'évasion.\",\n",
       "   'object_description': \"Le flacon emblématique 'lanterne' de Hermès se pare d'un jaune chaud, reflétant les nuances lumineuses de la fragrance. L'étui, illustré par Elias Kafouros, dessinateur de carrés pour Hermès, représente le paysage hellénique avec des teintes évoquant l'herbe dorée, les oliviers verts, les pistaches roses et le bleu de la mer. Une véritable œuvre d'art invitant à la contemplation.\",\n",
       "   'additional_info': \"Inspiré par Cythère, une île ayant capté l'admiration de nombreux artistes. Elias Kafouros, artiste grec, illustre l'étui avec une représentation authentique des paysages de son pays natal.\"},\n",
       "  'Jour': {'product_description': \"Jour d'Hermès est une eau de parfum florale créée en 2012, reflétant l'essence de la féminité à travers un bouquet de gardénia et pois de senteur, dans une harmonie parfaite.\",\n",
       "   'object_description': 'Le flacon, œuvre de Pierre Hardy, arbore des courbes rondes et sensuelles, avec en son centre une goutte de parfum lumineuse en suspension.',\n",
       "   'additional_info': \"Créateur du parfum: Jean-Claude Ellena. Année de création: 2012. Citation: 'J'ai voulu exprimer par les fleurs, et rien que les fleurs, l'essence de la féminité.' Le flacon est rechargeable avec la recharge d'eau de parfum 125 ml, promouvant une démarche éthique et durable.\"},\n",
       "  'Eau des merveilles': {'product_description': \"Créée par Ralf Schwieger et Nathalie Feisthauer, Eau des Merveilles est une eau de toilette boisée et ambrée. Elle mélange les notes de benjoin enveloppant, d'élémi épicé et de bigarade pétillante, évoquant une pluie d'étoiles en plein jour.\",\n",
       "   'object_description': \"Le flacon, œuvre de Serge Mansau, se présente sous la forme d'une loupe étoilée qui capture et diffuse une lumière orangée. Sur le dessus du spray, le sceau clou de selle de Hermès est gravé, symbolisant l'essence de la maison.\",\n",
       "   'additional_info': \"Le flacon de 30 ml est conçu pour être rechargeable, affirmant l'engagement d'Hermès envers la durabilité. Ce design permet d'ouvrir l'imaginaire à tout moment, en tout lieu.\"},\n",
       "  'Eau d orange verte': {'product_description': \"Créée en 1979 par Françoise Caron, l'Eau d'orange verte, initialement nommée Eau de cologne Hermès, est la première cologne de la maison Hermès. Renommée en 1997, cette fragrance est célèbre pour sa fraîcheur distinctive, vive et verte, mêlant des notes d'orange éclatante, de menthe fraîche et de mousse boisée.\",\n",
       "   'object_description': \"Le flacon, emblématique de la forme lanterne, arbore un vert profond élégant. Il est présenté dans une boîte orange ornée d'un bandeau contrastant qui rappelle la couleur du flacon.\",\n",
       "   'additional_info': \"La collection des Colognes Hermès, dont fait partie l'Eau d'orange verte, est décrite comme un terrain de jeu infini et virtuose, explorant la sensorialité des matières. Elle offre un plaisir immédiat et généreux, transcendant genres, modes, âges et saisons.\"},\n",
       "  'Tutti twilly': {'product_description': \"Tutti Twilly d'Hermès est une eau de parfum florale et fruitée, conçue par Christine Nagel. Elle célèbre l'esprit libre et audacieux des filles d'Hermès à travers des notes de fleur de gingembre, litchi et musc.\",\n",
       "   'object_description': 'Le flacon, dessiné par Florence Manlik, arbore une forme de lanterne avec un dégradé rouge litchi et un capot blanc. Un lien de soie, unique et noué à la main, signé Carine Brancowitz, orne chaque flacon.',\n",
       "   'additional_info': \"Le nom 'Twilly d'Hermès' fait référence au Twilly, un ruban de soie de la Maison, symbolisant la créativité et la polyvalence. Disponible en format 30 ml, il est parfait pour emporter avec soi.\"},\n",
       "  'Terre d Hermès': {'product_description': \"Créé en 2006 par Jean-Claude Ellena, Terre d'Hermès est une eau de toilette qui connecte l'homme à ses origines et à sa puissance créatrice. Cette fragrance minérale et boisée mélange la force du cèdre et l'éclat du pamplemousse avec une note distinctive de silex. Christine Nagel, depuis 2016, enrichit la vision de cette création en explorant de nouvelles possibilités olfactives.\",\n",
       "   'object_description': \"Le flacon de Terre d'Hermès se distingue par sa base solide marquée d'un 'H' orange, symbolisant l'empreinte dans la terre, tandis que le haut métallique reflète la lumière, évoquant le ciel. La transparence du verre entre ces deux éléments symbolise l'eau, créant ainsi une harmonie visuelle qui illustre le lien de l'homme avec la nature.\",\n",
       "   'additional_info': \"Le flacon, conçu par Philippe Mouquet, s'inspire d'un flacon de nécessaire de voyage conservé au musée Emile Hermès. Il intègre le Clou de Selle, élément emblématique de la Maison, et possède un capot coulissant qui révèle le spray. Terre d'Hermès a été lancé en 2006 et a vu l'intégration de Christine Nagel dans son développement olfactif en 2016.\"}}}"
      ]
     },
     "execution_count": 28,
     "metadata": {},
     "output_type": "execute_result"
    }
   ],
   "source": [
    "product_description"
   ]
  },
  {
   "cell_type": "code",
   "execution_count": 33,
   "metadata": {},
   "outputs": [],
   "source": [
    "for lang in product_description:\n",
    "    for product in product_description[lang]:\n",
    "        with open(os.path.join(DATA_FOLDER_PATH, \"product_details\", lang, \"product_description\", product.lower().replace(' ', '_').replace('è', 'e') + '.txt'), \"w\") as f:\n",
    "            f.write(product_description[lang][product][\"product_description\"])\n",
    "        with open(os.path.join(DATA_FOLDER_PATH, \"product_details\", lang, \"object_description\", product.lower().replace(' ', '_').replace('è', 'e') + '.txt'), \"w\") as f:\n",
    "            f.write(product_description[lang][product][\"object_description\"])\n",
    "        with open(os.path.join(DATA_FOLDER_PATH, \"product_details\", lang, \"additional_info\", product.lower().replace(' ', '_').replace('è', 'e') + '.txt'), \"w\") as f:\n",
    "            f.write(product_description[lang][product][\"additional_info\"])"
   ]
  },
  {
   "cell_type": "markdown",
   "metadata": {},
   "source": [
    "---"
   ]
  },
  {
   "cell_type": "markdown",
   "metadata": {},
   "source": [
    "# Retailer Perso"
   ]
  },
  {
   "cell_type": "code",
   "execution_count": 38,
   "metadata": {},
   "outputs": [],
   "source": [
    "retailer_product_data = {\n",
    "    retailer: {\n",
    "        lang: {\n",
    "            product.capitalize().replace('_', ' ')[:-4]: open(os.path.join(DATA_FOLDER_PATH, \"retailer_product_data\", retailer, lang, product), \"r\").read() for product in os.listdir(os.path.join(DATA_FOLDER_PATH, \"retailer_product_data\", retailer, lang))\n",
    "        } for lang in [\"en\", \"fr\"]\n",
    "    } for retailer in os.listdir(os.path.join(DATA_FOLDER_PATH, \"retailer_product_data\"))\n",
    "}"
   ]
  },
  {
   "cell_type": "code",
   "execution_count": 40,
   "metadata": {},
   "outputs": [],
   "source": [
    "def format_customization_example(product):\n",
    "    product = product.lower().replace('_', ' ')\n",
    "    if not \".txt\" in product:\n",
    "        product += \".txt\"\n",
    "    return f\"SOURCE TEXT:\\n{retailer_product_data['hermes']}\\n\\nTARGET TEXT:\\n{retailer_product_data['sephora']}\""
   ]
  },
  {
   "cell_type": "code",
   "execution_count": 37,
   "metadata": {},
   "outputs": [
    {
     "data": {
      "text/plain": [
       "{'sephora': {'en': {'Galop': \"LA CRÉATION\\nSigné par le parfumeur d'Hermès Christine Nagel en 2016, Galop d'Hermès s'inspire de l'univers équestre et incarne la liberté en mouvement : « Chez Hermès, j'ai découvert toute la féminité du cuir. J'ai composé Galop d'Hermès comme un tableau avec deux matières emblématiques d'Hermès et de la parfumerie : le cuir et la rose. »\\n\\nLES NOTES OLFACTIVES\\nFloral et cuiré, le parfum Galop d'Hermès développe les notes charnues de la rose et celles souples du cuir, au côté d'un safran racé.\\n\\nL'OBJET\\nDessiné par Philippe Mouquet, le flacon-étrier puise avec modernité dans la tradition équestre et l'histoire de la Maison.\\n\\nL'ÉTHIQUE\\nLe flacon se remplit grâce à une recharge de 125 ml munie d'un bouchon verseur en forme d'entonnoir parfaitement adapté à son col. Un geste responsable, indissociable d'un objet créé pour durer.\\n\\nLE DÉTAIL HERMÈS\\nInitialement créé pour être offert aux invités à l'inauguration du premier magasin Hermès de New York le 1er août 1930, l'objet était depuis précieusement gardé au Conservatoire des créations Hermès. Il a été redessiné pour devenir le flacon-étrier de Galop d'Hermès.\\n\",\n",
       "   'Voyage': \"Hermès Voyage d'Hermès Pure Perfume, a lively, giving fragrance in which the freshness of juniper berries blends with the milky warmth of sandalwood and the sensuality of amber.\\n\\nAn invitation to discover, meet and share. Jean-Claude Ellena\\n\\nA novel that feeds on the imagination, Voyage d’Hermès expresses the long-standing and unusual relationship between the house and travel. An interplay of paradoxes, complements and unexpected alliances support the premise of woody notes that are fresh yet musky, familiar yet surprising, hovering between impulsive and comforting, equally at ease with men as with women. Hermès designer Philippe Mouquet created a travel object bottle for Voyage d’Hermès, designed for journeys and symbolic of movement.\\n\",\n",
       "   'Jardin sur le nil': 'Hermès Un Jardin sur le Nil, a garden full of life, generous and sparkling, where the scents of green mango, lotus blossom and rush blend with incense and sycamore wood.\\n\\nA new and rather unusual concept of freshness; green and vegetal scents; the smell of water and sand. Jean-Claude Ellena\\n\\nUn Jardin sur le Nil is an impressionistic stroll through the island-gardens on the Nile at Aswan, the starting point for a new olfactory adventure. Green mango, lotus, calamus and sycamore wood all lie at the heart of this refreshing ode.\\n',\n",
       "   'Caleche': \"Hermès Calèche Soie de Parfum Eau de Parfum, a highly feminine fragrance in which the nobility of iris is underscored by generous sandalwood.\\n\\nWritten in 1961 by Guy Robert, Calèche was Hermès' first fragrance for women. A highly feminine, woody, chypre floral, its name refers to the horse-drawn carriages that are emblematic of the house. Calèche is a novel that dazzles with the beauty of its raw materials, from the joyfulness of citrus fruit to the modernity of aldehyde notes; from the floral heart embellished with ylang-ylang, rose and jasmine to the woody, chypre sillage underscored by the nobility of the iris.\\n\",\n",
       "   'Jardin a cythere': 'CREATION\\n\\nCreated by Hermès’ perfumer Christine Nagel, Le Jardin à Cythère eau de toilette is a surprising garden that its neither green nor floral, but... blond. It is the expression of an olfactory quest through Greece that leads to Kythira, an unspoiled island that has inspired many artists.\\n\\n\\nOLFACTORY NOTES\\n\\nA citrus and woody fragrance, Un Jardin à Cythère eau de toilette combines enveloping notes of grasses with the strength of olive wood and the tenderness of fresh pistachio.\\n\\n\\nTHE OBJECT\\n\\nDesigned by Fred Rawyler, the bottle is inspired by the lines of the horse-drawn carriage lanterns of yesteryear. The luminous graduated yellow glass echoes the sunny fragrance. On the box, artist Elias Kafouros sketches a colourful landscape of his homeland: golden grasses, green olive trees, fresh pink pistachios and, in the background, the blue of the sea.\\n\\n\\nTHE PARFUMS-JARDINS COLLECTION\\n\\nThe Parfums-Jardins collection brings together the soul of a place, the inspiration of the perfumer and the theme chosen by Hermès each year to illuminate its creation. An olfactory stroll to share for every moment, to indulge every desire for freshness, reverie or escape.\\n',\n",
       "   'Jour': 'A new Jour is revealed, zenithal, paradoxical. Gardenia, a bouquet of flowers within a flower bringing together aromas of rose, tuberose and jasmine.\\n\\n\\n\\n\"I wanted to express the essence of femininity with flowers, nothing but flowers.\" Jean-Claude Ellena\\n\\n\\n\\nFemininity in fragrance form! A celebration of the birth and rebirth of women, every day, Jour d’Hermès highlights female beauty while maintaining the mystery of each individual woman. A profusion of bouquets. From dawn to dusk, here is a floral that flowers, a blossom that blooms.\\n',\n",
       "   'Eau des merveilles': 'Discover Hermès Eau des Merveilles Eau de Toilette, an enchanting perfume, warm and sparkling. A fragrance composed of smooth, vanilla toned benzoin and ambergris woody notes, a wonderful stroll in the refreshing cool of wild orange trees.\\n\\nSince 2004, Eau des Merveilles has been a key that opens the door to the wonders of Hermès. From innocence to fantasy, from childhood dreams to femininity, it is a world where the extraordinary is brought into the light. Year after year, we are transported on an air of poetic enchantment. Captured in their round bottles resembling a magnifying glass, the fragrances have the magical power to see the world from new and marvellous angles. It is the key to wonders, the origin of stars in broad day light.\\n',\n",
       "   'Eau d orange verte': '\"Eau d’orange verte is the scent of the Little Prince in all of us.\" – Jean-Claude Ellena.\\n\\n\\n\\nThe original cologne created by Françoise Caron in 1979, inspired by the smell of undergrowth moist with morning dew, this fragrance has become an emblem of Hermès, and stands out for its distinctive freshness. The fragrance is an explosion of citrus notes, with orange, playing the central role between zests and leaves, lemon, mandarin, mint, and blackcurrant bud. Eau d’orange verte reveals its complexity in a unique sillage comprising oak moss and patchouli. Eau d’orange verte concentrated eau de toilette: the sustained freshness of a sparkling orange with a woody signature.\\n',\n",
       "   'Tutti twilly': \"THE CREATION\\nCreated by Hermès perfumer Christine Nagel, Tutti Twilly d'Hermès Eau de Parfum presents another facet of Twilly. It is a tribute to the free spirit, forged from audacity and lightness, of the Hermès girls and to their multi-faceted nature.\\n\\nOLFACTORY NOTES\\nA floral composition, the Eau de Parfum expresses its plurality through gentle ginger blossom, mellow lychee and enveloping musk.\\n\\nTHE OBJECT\\nThe iconic lantern bottle – now square – was designed by Florence Manlik. Illuminated by a sunny brightness, it is playfully enhanced by a unique, silk ribbon that is hand-tied around the radiant white cap.\\n\\nTHE HERMÈS DETAIL\\nThe Twilly d'Hermès fragrance tribe makes twin references to Hermès' silk métier, evoking both the house's silk twill scarf and the twilly, a cheerful little ribbon that can be worn in a variety of ways.\\n\",\n",
       "   'Terre d hermes': \"Discover Hermès Terre d'Hermès Eau de Toilette, the strength of citrus fruits and peppers combined with a note of flint reveal the trace of earth.\\n\\nTerre d’Hermès narrates the relationship between man and earth, his humble and harmonious dialogue with the elements and nature. Terre d’Hermès is the perfume that connects man to his origins, to the source of his creative power.\\n\"},\n",
       "  'fr': {'Galop': \"LA CRÉATION\\nSigné par le parfumeur d'Hermès Christine Nagel en 2016, Galop d'Hermès s'inspire de l'univers équestre et incarne la liberté en mouvement : « Chez Hermès, j'ai découvert toute la féminité du cuir. J'ai composé Galop d'Hermès comme un tableau avec deux matières emblématiques d'Hermès et de la parfumerie : le cuir et la rose. »\\n\\nLES NOTES OLFACTIVES\\nFloral et cuiré, le parfum Galop d'Hermès développe les notes charnues de la rose et celles souples du cuir, au côté d'un safran racé.\\n\\nL'OBJET\\nDessiné par Philippe Mouquet, le flacon-étrier puise avec modernité dans la tradition équestre et l'histoire de la Maison.\\n\\nL'ÉTHIQUE\\nLe flacon se remplit grâce à une recharge de 125 ml munie d'un bouchon verseur en forme d'entonnoir parfaitement adapté à son col. Un geste responsable, indissociable d'un objet créé pour durer.\\n\\nLE DÉTAIL HERMÈS\\nInitialement créé pour être offert aux invités à l'inauguration du premier magasin Hermès de New York le 1er août 1930, l'objet était depuis précieusement gardé au Conservatoire des créations Hermès. Il a été redessiné pour devenir le flacon-étrier de Galop d'Hermès.\\n\",\n",
       "   'Voyage': '« Une invitation à la découverte, à la rencontre, au partage. » Jean-Claude Ellena.\\n\\nRoman nourri d’imaginaire, Voyage d’Hermès exprime la relation profonde et originale que la maison entretient avec le voyage. Jeux de paradoxes, de compléments et d’alliances inédites servent le propos d’un boisé frais, musqué, familier et surprenant, entre élan et réconfort, aussi à l’aise au masculin qu’au féminin. Philippe Mouquet, designer pour Hermès, a créé pour Voyage d’Hermès un flacon-objet nomade, pensé pour le voyage et messager du mouvement.\\n\\nL’eau de toilette, vive et rassurante, neuve et familière, entre éclat et douceur..\\n\\n',\n",
       "   'Jardin sur le nil': '« Une nouvelle idée de fraîcheur, plutôt insolite ; des odeurs vertes et végétales ; des odeurs d’eau et de sable. » Jean-Claude Ellena.\\n\\nUn Jardin sur le Nil est une balade impressionniste dans les îles-jardins du Nil à Assouan, point de départ d’un nouveau vagabondage olfactif. Mangue verte, lotus, encens, calamus et bois de sycomore sont au coeur de cette ode rafraîchissante.\\n',\n",
       "   'Caleche': '« Calèche ou l’essence du classicisme. La séduction par la beauté de l’être. » Jean-Claude Ellena.\\n\\nComposé par Guy Robert en 1961, Calèche est le premier féminin de la maison. C’est un floral boisé chypré, d’une grande féminité, dont le nom fait écho à l’attelage emblématique d’Hermès. Calèche est un roman qui brille par la beauté de ses matières premières, de la gaieté des agrumes à la modernité des notes aldéhydées, du coeur floral brodé d’ylang-ylang, de rose et de jasmin, au sillage boisé, chypré, souligné par la noblesse de l’iris.\\n\\nLa soie de parfum, une générosité boisée.\\n',\n",
       "   'Jardin a cythere': 'Les Parfums-Jardins\\nÉchos aux thèmes annuels imaginés par la maison, les Parfums-Jardins sont nés de la rencontre entre l’âme d’un lieu, l’esprit d’Hermès et l’inspiration du parfumeur. Pour chaque moment, une promenade olfactive à partager pour des envies de fraîcheur, de rêverie et d’évasion.\\n\\nL’inspiration\\nHermès célèbre l’étonnement et nous invite à la découverte d’un jardin singulier, ni vert ni fleuri, mais... blond : Un Jardin à Cythère.\\nL’expression d’une quête olfactive à travers le Péloponnèse,qui mène à Cythère, une île grecque préservée ayant inspiré de nombreux artistes.\\nUn parfum baigné de soleil où les senteurs des graminées dorées se mêlent à la force du bois d’olivier et à la tendresse de la pistache fraîche.\\n\\nLa fragrance\\nHespéridé, boisé.\\nUn jardin blond, enveloppant et étonnant.\\nÉvocation de graminées enveloppantes, de bois d’olivier vigoureux et de pistache fraîche.\\n\\nL’étui\\nArtiste et dessinateur de carrés pour la maison,Elias Kafouros est véritablement épris de sa terre natale, la Grèce. Il représente sur cet étui sa vision authentique du paysage hellénique.\\nL’illustration nous invite à contempler l’herbe dorée réchauffée par le soleil et caressée par le vent, les nuances de vert des oliviers, le rose des pistaches fraîches et le bleu de la mer.\\n\\nLe flacon\\nL’emblématique flacon «lanterne» est infusé d’un jaune chaud et lumineux,écho à la fragrance. Un flacon gorgé de soleil.\\n',\n",
       "   'Jour': \"« J’ai voulu exprimer par les fleurs, et rien que des fleurs, l’essence de la féminité. » Jean-Claude Ellena.\\n\\nLa féminité faite parfum ! Célébration de la naissance et de la renaissance de la femme, chaque jour, Jour d’Hermès met en lumière la beauté du féminin, en préservant le mystère de chaque femme. Une profusion de bouquets. De l’aube au crépuscule, voici un fleuri qui fleure, effleure, affleure.\\n\\nL'eau de parfum est lumineuse, charnelle. Pois de senteur, gardénia.\",\n",
       "   'Eau des merveilles': '« Le parfum de l’enchantement. Un bois d’ambre au féminin surprenant et magique. », Jean-Claude Ellena.\\n\\nDe la surprise à la magie et de la magie à l’enchantement, l’Eau des Merveilles nous mène par le bout du nez sur un nuage de fantaisie. Roman multi-facetté construit sur un accord ambré boisé qui résonne jusque dans les notes de tête, la fragrance, créée en 2004 par Ralph Schwieger et Nathalie Feisthauer, réussit le pari d’une féminité scintillante sans fleurs apparentes.\\n\\nL’eau de toilette, pétillante et chaleureuse.\\n',\n",
       "   'Eau d orange verte': '« Eau d’orange verte est le parfum du Petit Prince que l’on porte en soi. » Jean-Claude Ellena.\\n\\nCologne fondatrice créée par Françoise Caron en 1979, et inspirée par l’odeur d’un sous-bois mouillé de rosée matinale, cette fragrance, qui s’est imposée depuis comme un emblème d’Hermès, se distingue par sa fraîcheur singulière. Parfum nouvelle imaginé comme une explosion de notes hespéridées, l’orange y joue le rôle principal entre zestes et feuilles, citron, mandarine, menthe et bourgeon de cassis. L’Eau d’orange verte révèle sa complexité dans un sillage unique composé de mousse de chêne et de patchouli. L’eau de toilette Concentré d’Orange Verte, la fraîcheur soutenue d’un grand éclat d’orange à la signature boisée.\\n\\nL’eau de cologne, la fraîcheur verte d’un grand éclat d’orange à la signature boisée..',\n",
       "   'Tutti twilly': \"LA CRÉATION\\nCréée par le parfumeur d'Hermès Christine Nagel, l'Eau de Parfum Tutti Twilly d'Hermès, est une autre facette de Twilly. Un hommage à l'esprit libre, fait d'audace et de légèreté, et à la pluralité des filles d'Hermès.\\n\\nLES NOTES OLFACTIVES\\nComposition florale, l'Eau de parfum exprime son esprit pluriel avec une fleur de gingembre douce, un litchi moelleux et un musc enveloppant.\\n\\nL'OBJET\\nDevenu carré, le flacon-lanterne emblématique est dessiné par Florence Manlik. Eclairé d'une lumière ensoleillée, il est souligné avec malice d'un lien de soie unique noué à la main autour du capot blanc lumineux.\\n\\nLE DÉTAIL HERMÈS\\nLa tribu parfumée Twilly d'Hermès fait doublement écho à la soie Hermès : au carré en twill de soie de la maison et au twilly, petit ruban de soie joyeux qui multiplie les possibilités de portés.\\n\",\n",
       "   'Terre d hermes': \"La vigueur des agrumes et des poivres alliée à la note de silex signent l'empreinte de terre.\\n\\nTerre d'Hermès raconte la relation de l'homme à la terre, son dialogue humble et harmonieux avec la nature et les éléments. Terre d'Hermès est le parfum qui relie l'homme à ses origines, aux sources de sa puissance créatrice..\\n\\n\"}},\n",
       " 'hermes': {'en': {'Galop': \"CREATION\\nCreated in 2005, Un Jardin sur le Nil eau de toilette evokes an olfactory journey to the garden islands in Aswan, Egypt. In this composition, perfumer Jean-Claude Ellena tells of this river synonymous with life and generosity.\\n\\nOLFACTORY NOTES\\n\\nGreen and woody, Un Jardin sur le Nil eau de toilette combines tangy green mango with delicate lotus and elegant sycamore.\\n\\nTHE OBJECT\\nDesigned by Fred Rawyler, the bottle is inspired by the lines of horse-drawn carriage lanterns. Its glass is in a delicate green gradient, evoking the banks of the Nile. The box is illustrated with a lotus flower by artist Veronique de Mareuil.\\n\\nTHE PARFUMS-JARDINS COLLECTION\\nThe Parfums-Jardins collection brings together the soul of a place, the perfumer's inspiration and the theme chosen by Hermès each year to nourish its creativity. They are olfactory strolls to share for every moment, to indulge every desire for freshness, reverie or escape.\\n\",\n",
       "   'Voyage': 'CREATION\\nIn 2011, Jean-Claude Ellena created Voyage d\\'Hermès Parfum, an intense and generous reinterpretation of the original fragrance. \"I moved away from the idea of \\'concentrating\\' the formula to focus on the intensity of perceptions and the magnitude of the fragrance trail.\"\\n\\nOLFACTORY NOTES\\nWith a woody and amber character, Voyage d\\'Hermès Parfum reveals invigorating juniper berry blended with sweet and milky sandalwood.\\n\\nTHE OBJECT\\nDesigner Philippe Mouquet created a unique object inspired by a pocket magnifying glass found by chance. The black glass bottle is encased in a silver-colored stirrup and decorated with the emblematic Clou de Selle.\\n\\nETHICS\\nThe bottle can be replenished using the 125 ml Voyage d\\'Hermès Parfum refill. A responsible gesture, integral to an object created to last.\\n\\nTHE HERMÈS DETAIL\\nHermès has been an artisan of movement and a valued companion for travelers ever since Thierry Hermès founded a harness and saddlery business in Paris in 1837. This theme underpins the House\\'s creativity and inspires its culture.\\n',\n",
       "   'Caleche': \"CREATION\\nCreated by perfumer Guy Robert in 1961, Hermès' first fragrance for women, Caleche, was reinterpreted in 1992 as Caleche soie de parfum, the name of which refers to the horse-drawn carriages that are emblematic of the House and its silk metier.\\n\\nOLFACTORY NOTES\\nFloral with aldehyde aromas, Caleche Soie de Parfum combines the refined notes of aldehyde with opulent jasmine and generous rose.\\n\\nTHE OBJECT\\nThe bottle, inspired by the lanterns of horse-drawn carriages, has a black cap reminiscent of a riding hat. The back label is illustrated with a design by Philippe Dumas, indicating that it belongs to the Parfums-Fondateurs collection.\\n\\nTHE PARFUMS-FONDATEURS COLLECTION\\nThe Parfums-Fondateurs collection draws inspiration from the House's heritage. Each creation encapsulates Hermès' imaginary world in a name, a fragrance and a color. Over the years, Hermès has pioneered a bold style of perfumery, resulting from encounters with exceptional perfumers.\\n\",\n",
       "   'Jardin a cythere': \"CREATION\\nCreated by Hermès' perfumer Christine Nagel, Un Jardin a Cythere eau de toilette is a surprising garden that is neither green nor floral, but... blond. It is the expression of an olfactory quest through Greece that leads to Kythira, a picturesque island that has inspired many artists.\\n\\nOLFACTORY NOTES\\nA citrus and woody fragrance, Un Jardin a Cythere eau de toilette combines enveloping notes of grasses with the strength of olive wood and the tenderness of fresh pistachio.\\n\\nTHE OBJECT\\nDesigned by Fred Rawyler, the bottle is inspired by the lines of the horse-drawn carriage lanterns of yesteryear. The luminous yellow glass echoes the sunny fragrance. On the box, artist Elias Kafouros sketches a colorful landscape of his homeland: golden grasses, green olive trees, fresh pink pistachios and in the background, the blue of the sea.\\n\\nTHE PARFUMS-JARDINS COLLECTION\\nThe Parfums-Jardins collection brings together the soul of a place, the perfumer's inspiration and the annual theme selected by Hermès. An aromatic journey for every moment, satisfying every desire for freshness, reverie or escape.\\n\",\n",
       "   'Jour': 'CREATION\\nJour d\\'Hermès is a timeless, feminine composition that was created in 2012 by perfumer Jean-Claude Ellena: \"I wanted to express the essence of femininity through flowers, and flowers alone.\"\\n\\nOLFACTORY NOTES\\nJour d\\'Hermès eau de parfum is a floral fragrance. It evokes the sensuality of gardenia and the delicacy of sweet peas in a perfectly orchestrated harmony.\\n\\nTHE OBJECT\\nCreated by designer Pierre Hardy, the bottle displays rounded, sensual curves. At the center, a radiant drop of perfume hangs suspended.\\n\\nETHICS\\nThe bottle can be replenished using the 125 ml eau de parfum refill. A responsible gesture, integral to an object created to last.\\n\\nTHE HERMÈS DETAIL\\nAn essential tool for the artisan\\'s work, light is the primary material at Hermès. It energizes objects and brings them to life, while revealing the beauty of the world. It is this light that inspired Jour d\\'Hermès, the most vital of fragrances.\\n',\n",
       "   'Eau des merveilles': \"THE CREATION\\nCreated by perfumers Ralf Schwieger and Nathalie Feisthauer, Eau des Merveilles eau de toilette showcases the wonders of Hermès. A world where the extraordinary is revealed with a shower of stars in broad daylight.\\n\\nOLFACTORY NOTES\\nThe woody and amber eau de toilette blends enveloping benzoin, spicy elemi and sparkling bigarade orange.\\n\\nBOTTLE\\nDesigned by Serge Mansau, the star-spangled magnifying-glass bottle twinkles with an orange light that shifts from intense to ethereal. The top of the spray is engraved with the House's Clou de Selle seal.\\n\\nTHE EAU DES MERVEILLES CONSTELLATION\\nThis first opus of the Hermès Merveilles collection invites you to discover a world of enchantment with your feet on the ground and head in the stars. An olfactory constellation revealing the house's poetic view of the world.\\n\",\n",
       "   'Tutti twilly': \"THE CREATION\\nCreated by Christine Nagel for the Hermès girls, Tutti Twilly d'Hermès eau de parfum is a tribute to their free spirit – a blend of daring and lightheartedness – and their multifaceted nature. Individuality is reflected in this fragrance.\\n\\nOLFACTORY NOTES\\nA floral and fruity eau de parfum with a generous character crafted with gentle ginger blossom, mellow lychee, and enveloping musk notes.\\n\\nBOTTLE\\nDesigned by Florence Manlik, the lantern-shaped bottle has a square silhouette, adorned with an inverted lychee-red color graduation. With a final flourish, a hand-tied silk ribbon playfully embellishes the cap of each bottle designed by Carine Brancowitz. Each silk ribbon is unique. Its 30 ml format allows you to take the notes of Tutti Twilly with you while on the go to diffuse the sparkle of the Hermès girls anywhere and everywhere.\\n\\nTHE HERMÈS DETAIL\\nThe Twilly d'Hermès family of perfumes evokes the Hermès silk métier on two fronts: it calls to mind the house's silk twill scarf as well as the Twilly, a small, joyful, colorful silk ribbon that can be worn in countless ways.\\n\",\n",
       "   'Terre d hermes': \"THE CREATION\\nTerre d'Hermès tells the story of man's relationship with the earth, his humble and harmonious dialogue with nature and the elements.\\nIn 2009, Jean-Claude Ellena infused Terre d'Hermès with a new density by creating Terre d'Hermès Parfum.\\n\\nOLFACTORY NOTES\\nA warm, woody fragrance, Terre d'Hermès Parfum combines enveloping cedar and sparkling grapefruit with a radiant note of shiso.\\n\\nTHE OBJECT\\nAt its base, the bottle rests on a more visible orange H – echoing the deeper color of the fragrance – which leaves its imprint on the earth. At the top, the light is reflected by the bottle's metal shoulders.\\n\\nTHE HERMÈS DETAIL\\nWhen held in the hand, the Terre d'Hermès Parfum bottle unveils its many details: the House's iconic Clou de Selle, the sliding cover used to release the spray, etc.\\nCreated by designer Philippe Mouquet, it is inspired by a bottle in a travel vanity case that is conserved at the Emile Hermès museum.\\n\"},\n",
       "  'fr': {'Galop': \"LA CRÉATION\\nSigné par le parfumeur d'Hermès Christine Nagel en 2016, Galop d'Hermès s'inspire de l'univers équestre et incarne la liberté en mouvement : « Chez Hermès, j'ai découvert toute la féminité du cuir. J'ai composé Galop d'Hermès comme un tableau avec deux matières emblématiques d'Hermès et de la parfumerie : le cuir et la rose. »\\n\\nLES NOTES OLFACTIVES\\nFloral et cuiré, le parfum Galop d'Hermès développe les notes charnues de la rose et celles souples du cuir, au côté d'un safran racé.\\n\\nL'OBJET\\nDessiné par Philippe Mouquet, le flacon-étrier puise avec modernité dans la tradition équestre et l'histoire de la Maison.\\n\\nL'ÉTHIQUE\\nLe flacon se remplit grâce à une recharge de 125 ml munie d'un bouchon verseur en forme d'entonnoir parfaitement adapté à son col. Un geste responsable, indissociable d'un objet créé pour durer.\\n\\nLE DÉTAIL HERMÈS\\nInitialement créé pour être offert aux invités à l'inauguration du premier magasin Hermès de New York le 1er août 1930, l'objet était depuis précieusement gardé au Conservatoire des créations Hermès. Il a été redessiné pour devenir le flacon-étrier de Galop d'Hermès.\\n\",\n",
       "   'Voyage': 'LA CRÉATION\\nEn 2011, Jean-Claude Ellena signe Voyage d\\'Hermès Parfum, une réinterprétation intense et généreuse de la fragrance originelle. « Je me suis éloigné du principe de \"concentration\" de la formule pour m\\'intéresser à l\\'intensité des perceptions et à l\\'amplitude du sillage. »\\n\\nLES NOTES OLFACTIVES\\nBoisé et ambré, Voyage d\\'Hermès Parfum révèle une baie de genièvre revigorante mariée au caractère lacté et doux du bois de santal.\\n\\nL\\'OBJET\\nLe designer Philippe Mouquet a créé un objet singulier, inspiré d\\'une loupe de poche trouvée au hasard des chemins. Le flacon de verre noir s\\'habille d\\'un étrier couleur argent, orné du Clou de Selle emblématique.\\n\\nL\\'ÉTHIQUE\\nLe flacon se remplit à l\\'aide de la recharge de parfum Voyage d\\'Hermès 125 ml. Un geste responsable, indissociable d\\'un objet créé pour durer.\\n\\nLE DÉTAIL HERMÈS\\nDepuis la fondation par Thierry Hermès d\\'une manufacture de harnais et de selles à Paris en 1837, Hermès est l\\'artisan du mouvement et accompagne le voyage. Ce thème inspire la création et anime la culture de la Maison.\\n',\n",
       "   'Jardin sur le nil': \"LA CRÉATION\\nCréé en 2005, l'eau de toilette Un Jardin sur le Nil évoque un voyage olfactif dans les îles-jardins à Assouan en Égypte. Le parfumeur Jean-Claude Ellena raconte dans cette composition ce fleuve synonyme de vie et de générosité.\\n\\nLES NOTES OLFACTIVES\\n\\nVerte et boisée, l'eau de toilette Un Jardin sur le Nil mêle une mangue verte acidulée, un lotus délicat et un sycomore élégant.\\n\\nL'OBJET\\nDessiné par Fred Rawyler, le flacon s'inspire des lignes des lanternes des voitures d'antan. Le verre du flacon s'anime d'un délicat dégradé vert à l'image des rives du Nil. L'étui est illustré d'un lotus en fleur sous le pinceau de l'artiste Véronique de Mareuil.\\n\\nLA COLLECTION PARFUMS-JARDINS\\nLa collection des Parfums-Jardins signe la rencontre entre l'âme d'un lieu, l'inspiration du parfumeur et le thème que se choisit la maison Hermès chaque année pour éclairer sa création. Une promenade olfactive à partager pour chaque moment, pour des envies de fraîcheur, de rêverie et d'évasion.\\n\",\n",
       "   'Caleche': \"LA CRÉATION\\nComposé par le parfumeur Guy Robert en 1961, Calèche est le premier parfum féminin d'Hermès. Son nom fait écho à l'attelage emblématique de la Maison : la voiture hippomobile du XIXe siècle, élégante et légère.\\n\\nLES NOTES OLFACTIVES\\nFragrance florale et aldéhydée, l'eau de toilette Calèche réunit avec une grande féminité la finesse des aldéhydes, l'ondulation d'un jasmin et la légèreté d'une rose.\\n\\nL'OBJET\\nInspiré des lanternes des voitures d'antan, le flacon est coiffé d'un capot noir faisant écho à la bombe des cavaliers. Signe d'appartenance à la collection des Parfums-Fondateurs, l'étiquette au dos est illustrée d'un dessin de Philippe Dumas.\\n\\nLA COLLECTION DES PARFUMS-FONDATEURS\\nLa collection des Parfums-Fondateurs puise son inspiration dans le patrimoine de la Maison. Chaque création concentre l'imaginaire d'Hermès en un nom, une fragrance, une couleur. Au fil des ans, Hermès a écrit les pages d'une parfumerie audacieuse, née de la rencontre avec des parfumeurs d'exception.\\n\",\n",
       "   'Jardin a cythere': 'Les Parfums-Jardins\\nÉchos aux thèmes annuels imaginés par la maison, les Parfums-Jardins sont nés de la rencontre entre l’âme d’un lieu, l’esprit d’Hermès et l’inspiration du parfumeur. Pour chaque moment, une promenade olfactive à partager pour des envies de fraîcheur, de rêverie et d’évasion.\\n\\nL’inspiration\\nHermès célèbre l’étonnement et nous invite à la découverte d’un jardin singulier, ni vert ni fleuri, mais... blond : Un Jardin à Cythère.\\nL’expression d’une quête olfactive à travers le Péloponnèse,qui mène à Cythère, une île grecque préservée ayant inspiré de nombreux artistes.\\nUn parfum baigné de soleil où les senteurs des graminées dorées se mêlent à la force du bois d’olivier et à la tendresse de la pistache fraîche.\\n\\nLa fragrance\\nHespéridé, boisé.\\nUn jardin blond, enveloppant et étonnant.\\nÉvocation de graminées enveloppantes, de bois d’olivier vigoureux et de pistache fraîche.\\n\\nL’étui\\nArtiste et dessinateur de carrés pour la maison,Elias Kafouros est véritablement épris de sa terre natale, la Grèce. Il représente sur cet étui sa vision authentique du paysage hellénique.\\nL’illustration nous invite à contempler l’herbe dorée réchauffée par le soleil et caressée par le vent, les nuances de vert des oliviers, le rose des pistaches fraîches et le bleu de la mer.\\n\\nLe flacon\\nL’emblématique flacon «lanterne» est infusé d’un jaune chaud et lumineux,écho à la fragrance. Un flacon gorgé de soleil.\\n',\n",
       "   'Jour': \"LA CRÉATION\\nComposition féminine et intemporelle, Jour d'Hermès a été créé en 2012 par le parfumeur Jean-Claude Ellena : « J'ai voulu exprimer par les fleurs, et rien que les fleurs, l'essence de la féminité. »\\n\\nLES NOTES OLFACTIVES\\nL'eau de parfum Jour d'Hermès est une fragrance florale. Elle convoque la sensualité du gardénia et la délicatesse du pois de senteur dans une harmonie parfaite.\\n\\nL'OBJET\\nDessiné par le designer Pierre Hardy, le flacon s'épanouit en courbes rondes et sensuelles. Au centre, une goutte de parfum lumineuse en suspension.\\n\\nL'ÉTHIQUE\\nLe flacon se remplit à l'aide de la recharge d'eau de parfum 125 ml. Un geste responsable, indissociable d'un objet créé pour durer.\\n\\nLE DÉTAIL HERMÈS\\nOutil essentiel à l'ouvrage de l'artisan, la lumière, chez Hermès, est la première des matières. Elle anime, donne vie aux objets et révèle la beauté du monde. Cette lumière a inspiré le plus essentiel des parfums, Jour d'Hermès.\\n\",\n",
       "   'Eau des merveilles': \"LA CRÉATION\\nCréée par les parfumeurs Ralf Schwieger et Nathalie Feisthauer, l'eau de toilette Eau des Merveilles ouvre sur le merveilleux d'Hermès. Un monde où l'extraordinaire se révèle avec une pluie d'étoiles en plein jour.\\n\\nLES NOTES OLFACTIVES\\nUne eau de toilette boisée et ambrée, qui mêle le benjoin enveloppant, l'élémi épicé et la bigarade pétillante.\\n\\nL'OBJET\\nDessiné par Serge Mansau, le flacon loupe étoilé fait scintiller une lumière orangée, de l'intense à l'aérien. Sur le dessus du spray, apparaît gravé le sceau clou de selle de la maison. Le format 30 ml est la clé pour ouvrir l'imaginaire partout et à tout instant.\\n\\nL'ÉTHIQUE\\nLe flacon est rechargeable. Un geste responsable, indissociable d'un objet créé pour durer.\\n\",\n",
       "   'Tutti twilly': \"LA CRÉATION\\nImaginée par Christine Nagel pour les filles d'Hermès, l'eau de parfum Tutti Twilly d'Hermès est un hommage à leur esprit libre, fait d'audace et de légèreté, et à leur pluralité. Toutes différentes, elles se retrouvent dans ce parfum.\\n\\nLES NOTES OLFACTIVES\\nUne eau de parfum florale et fruitée au caractère généreux tressée d'une fleur de gingembre douce, d'un litchi moelleux et d'un musc enveloppant.\\n\\nL'OBJET\\nDessiné par Florence Manlik, le flacon-lanterne emblématique est coupé au carré et se pare d'un dégradé inversé rouge litchi. Son capot blanc s'habille d'un lien de soie signé de Carine Brancowitz. Noué à la main, chaque lien de soie est unique. Le format 30 ml permet d'emporter partout avec soi les notes de Tutti Twilly, pour diffuser l'esprit libre des filles d'Hermès.\\n\\nLE DÉTAIL HERMÈS\\nLe nom de la tribu parfumée Twilly d'Hermès évoque le métier de la soie Hermès : le Twilly, petit ruban joyeux et coloré aux multiples portés, est le détournement du carré en twill de soie de la Maison.\\n\",\n",
       "   'Terre d hermes': \"LA CRÉATION\\nEn 2006, Jean-Claude Ellena crée Terre d'Hermès, une eau reliant l'homme à ses origines, aux sources de sa puissance créatrice. Terre d'Hermès raconte la relation de l'homme à la terre, son dialogue humble et harmonieux avec la nature et les éléments.\\nDepuis 2016, Christine Nagel, parfumeur d'Hermès, pose son regard sur Terre pour en explorer les nouveaux possibles.\\n\\nLES NOTES OLFACTIVES\\nFragrance minérale et boisée, Terre d'Hermès allie la puissance du cèdre et l'éclat du pamplemousse à une note de silex vibrante.\\n\\nL'OBJET\\nCôté sol, le flacon est posé sur un H orange. Il marque son empreinte dans la terre. Côté ciel, la lumière se reflète sur les épaules métalliques. Entre les deux, la transparence de l'eau.\\n\\nLE DÉTAIL HERMÈS\\nUne fois en main, le flacon Terre d'Hermès dévoile de nombreux détails : le Clou de Selle emblématique de la Maison, le capot que l'on coulisse pour libérer le spray, etc.\\nCréé par le designer Philippe Mouquet, il s'inspire d'un flacon de nécessaire de voyage, conservé au musée Emile Hermès.\\n\"}}}"
      ]
     },
     "execution_count": 37,
     "metadata": {},
     "output_type": "execute_result"
    }
   ],
   "source": [
    "retailer_product_data"
   ]
  },
  {
   "cell_type": "markdown",
   "metadata": {},
   "source": [
    "## Retailer Customization "
   ]
  },
  {
   "cell_type": "code",
   "execution_count": 68,
   "metadata": {},
   "outputs": [],
   "source": [
    "from functions.utils import load_prompts\n",
    "\n",
    "customization_system_prompt, customization_human_prompt = load_prompts(os.path.join(PROMPT_FOLDER_PATH, \"Customization\"))\n",
    "edition_customization_system_prompt, edition_customization_human_prompt = load_prompts(os.path.join(PROMPT_FOLDER_PATH, \"CustomizationEditor\"))"
   ]
  },
  {
   "cell_type": "code",
   "execution_count": 78,
   "metadata": {},
   "outputs": [],
   "source": [
    "# Output parser creation\n",
    "class Customization(BaseModel):\n",
    "    customized_text: str = Field(description=\"The retailer customized product detail page.\")\n",
    "\n",
    "class Feedback(BaseModel):\n",
    "    feedback: str = Field(description=\"The feedback on the copy.\")\n",
    "\n",
    "class Edition(BaseModel):\n",
    "    edited_text: str = Field(description=\"The edited and improved version of the customized product detail page.\")\n",
    "\n",
    "customization_output_parser = JsonOutputParser(pydantic_object=Customization)\n",
    "review_output_parser = JsonOutputParser(pydantic_object=Feedback)\n",
    "edition_output_parser = JsonOutputParser(pydantic_object=Edition)\n",
    "\n",
    "# Chains\n",
    "## Copywriting\n",
    "customization_prompt = ChatPromptTemplate(\n",
    "    messages=[\n",
    "        SystemMessagePromptTemplate.from_template(customization_system_prompt),\n",
    "        HumanMessagePromptTemplate.from_template(customization_human_prompt)\n",
    "    ],\n",
    "    input_variables=[\"role\", \"persona\", \"language\", \"existing_product_dp\", \"brand_knowledge\", \"copywriting_guidelines\", \"reference_examples\", \"platform_specs\"],\n",
    "    partial_variables={\"format_instructions\": customization_output_parser.get_format_instructions()}\n",
    ")\n",
    "\n",
    "customization_chain = customization_prompt | model | customization_output_parser\n",
    "\n",
    "## Brand Review\n",
    "brand_review_prompt = ChatPromptTemplate(\n",
    "    messages=[\n",
    "        SystemMessagePromptTemplate.from_template(brand_review_system_prompt),\n",
    "        HumanMessagePromptTemplate.from_template(brand_review_human_prompt)\n",
    "    ],\n",
    "    input_variables=[\"role\", \"brand_knowledge\", \"generated_text\"],\n",
    "    partial_variables={\"format_instructions\": review_output_parser.get_format_instructions()}\n",
    ")\n",
    "brand_review_chain = brand_review_prompt | model | review_output_parser\n",
    "\n",
    "## Copywriting Review\n",
    "copywriting_review_prompt = ChatPromptTemplate(\n",
    "    messages=[\n",
    "        SystemMessagePromptTemplate.from_template(copywriting_review_system_prompt),\n",
    "        HumanMessagePromptTemplate.from_template(copywriting_human_prompt)\n",
    "    ],\n",
    "    input_variables=[\"role\", \"copywriting_guidelines\", \"generated_text\"],\n",
    "    partial_variables={\"format_instructions\": review_output_parser.get_format_instructions()}\n",
    ")\n",
    "copywriting_review_chain = copywriting_review_prompt | model | review_output_parser\n",
    "\n",
    "    ## TOV & Platform Specs Review \n",
    "def format_examples(example_dict):\n",
    "    formated_text = \"\"\n",
    "    for language in [\"en\", \"fr\"]:\n",
    "        formated_text += f\"\\nLanguage: {language}\\n\\n\"\n",
    "        for product in example_dict[\"hermes\"][language]:\n",
    "            formated_text += f\"Original text:\\n{example_dict['hermes'][language][product]}\\n\\nAdapted text:\\n{example_dict['sephora'][language][product]}\\n\\n\"\n",
    "    return formated_text\n",
    "        \n",
    "tov_review_prompt = ChatPromptTemplate(\n",
    "    messages=[\n",
    "        SystemMessagePromptTemplate.from_template(tov_review_system_prompt),\n",
    "        HumanMessagePromptTemplate.from_template(tov_review_human_prompt)\n",
    "    ],\n",
    "    input_variables=[\"role\", \"reference_examples\", \"generated_text\"],\n",
    "    partial_variables={\"format_instructions\": review_output_parser.get_format_instructions()}\n",
    ")\n",
    "tov_review_chain = tov_review_prompt | model | review_output_parser\n",
    "\n",
    "## Edition\n",
    "edition_customization_prompt = ChatPromptTemplate(\n",
    "    messages=[\n",
    "        SystemMessagePromptTemplate.from_template(edition_customization_system_prompt),\n",
    "        HumanMessagePromptTemplate.from_template(edition_customization_human_prompt)\n",
    "    ],\n",
    "    input_variables=[\"role\", \"persona\", \"generated_text\", \"feedback\", \"brand_knowledge\", \"copywriting_guidelines\", \"reference_examples\", \"existing_product_dp\", \"platform_specs\"], \n",
    "    partial_variables={\"format_instructions\": edition_output_parser.get_format_instructions()}\n",
    ")\n",
    "edition_chain = edition_customization_prompt | model | edition_output_parser\n",
    "\n",
    "def format_feedback(reviews):\n",
    "    brand_review, copywriting_review, tov_review = reviews\n",
    "    return f\"\"\"Brand Feedback:\n",
    "{brand_review}\n",
    "\n",
    "Copywriting Feedback:\n",
    "{copywriting_review}\n",
    "\n",
    "Tone of Voice and Platform specs compliance Feedback:\n",
    "{tov_review}\n",
    "\n",
    "\"\"\"\n",
    "\n",
    "customize_product_description_chain = (\n",
    "    RunnablePassthrough.assign(generated_text=customization_chain)\n",
    "    | RunnablePassthrough.assign(reference_examples=itemgetter(\"reference_examples\") | RunnableLambda(format_examples))\n",
    "    | RunnablePassthrough.assign(\n",
    "        brand_review=brand_review_chain | itemgetter(\"feedback\"),\n",
    "        copywriting_review=copywriting_review_chain | itemgetter(\"feedback\"),\n",
    "        tov_review=tov_review_chain | itemgetter(\"feedback\")\n",
    "    ) | RunnablePassthrough.assign(feedback=itemgetter(\"brand_review\", \"copywriting_review\", \"tov_review\") | RunnableLambda(format_feedback))\n",
    "    | RunnablePassthrough.assign(edited_text=customization_chain)\n",
    "    | itemgetter(\"edited_text\")\n",
    ")   \n",
    "\n"
   ]
  },
  {
   "cell_type": "code",
   "execution_count": 66,
   "metadata": {},
   "outputs": [
    {
     "ename": "NameError",
     "evalue": "name 'product_name' is not defined",
     "output_type": "error",
     "traceback": [
      "\u001b[0;31m---------------------------------------------------------------------------\u001b[0m",
      "\u001b[0;31mNameError\u001b[0m                                 Traceback (most recent call last)",
      "Cell \u001b[0;32mIn[66], line 1\u001b[0m\n\u001b[0;32m----> 1\u001b[0m \u001b[38;5;28;01mif\u001b[39;00m \u001b[43mproduct_name\u001b[49m \u001b[38;5;129;01min\u001b[39;00m product_data[language]:\n\u001b[1;32m      2\u001b[0m     product_details \u001b[38;5;241m=\u001b[39m product_data[language][product_name]\n\u001b[1;32m      3\u001b[0m \u001b[38;5;28;01melse\u001b[39;00m:\n",
      "\u001b[0;31mNameError\u001b[0m: name 'product_name' is not defined"
     ]
    }
   ],
   "source": [
    "if product_name in product_data[language]:\n",
    "    product_details = product_data[language][product_name]\n",
    "else:\n",
    "    def format_product_details(product_detail_list):\n",
    "        return  f\"PRODUCT DESCRIPTION:\\n{product_detail_list[0]}\\n\\nOBJECT DESCRIPTION:\\n{product_detail_list[1]}\\n\\nADDITIONAL INFO:\\n{product_detail_list[2]}\"\n",
    "    product_details = format_product_details(product_details)\n",
    "\n",
    "        \n",
    "customize_product_description_chain.invoke({\n",
    "    \"role\": role, \n",
    "    \"persona\": persona, \n",
    "    \"language\": language,\n",
    "    \"product_name\": product_name,\n",
    "    \"product_data\": product_details,\n",
    "    \"brand_knowledge\": brand_knowledge,\n",
    "    \"copywriting_guidelines\": copywriting_guidelines,\n",
    "    \"reference_examples\": product_data[language],\n",
    "    \"platform_specs\": sephora_specs,   \n",
    "    \"existing_product_dp\": product_data[language][product_name] \n",
    "})"
   ]
  },
  {
   "cell_type": "code",
   "execution_count": 79,
   "metadata": {},
   "outputs": [],
   "source": [
    "language = \"fr\"\n",
    "product = \"terre\""
   ]
  },
  {
   "cell_type": "code",
   "execution_count": 80,
   "metadata": {},
   "outputs": [
    {
     "data": {
      "text/plain": [
       "{'customized_text': \"« La terre est une harmonie silencieuse pour ceux qui écoutent. » – Jean-Claude Ellena.\\n\\nTerre d'Hermès évoque un voyage profond à travers les éléments, un dialogue entre l'homme et la nature, révélant des liens presque oubliés avec la terre qui nous nourrit et nous soutient. Cette fragrance, créée par Jean-Claude Ellena en 2006 et revisité par Christine Nagel depuis 2016, explore les nouveaux possibles, en alliant la fraîcheur du pamplemousse à la robustesse du cèdre et à un silex vibrant d'énergie.\\n\\nLe flacon lui-même est un manifeste de cette connexion entre ciel et terre. Sa base, ornée d'un H orange, s'ancre dans la terre, tandis que ses épaules métalliques reflètent la lumière du ciel. Ce design, œuvre de Philippe Mouquet, s'inspire des nécessaires de voyage conservés au musée Émile Hermès, rappelant ainsi l'importance du voyage dans l'ADN de la maison.\\n\\nTerre d'Hermès est plus qu'un parfum, c'est une fenêtre ouverte sur notre monde, une célébration des racines de l'homme et de sa puissance créatrice, infusée de la philosophie d'Hermès où chaque produit est une part de son histoire et de son héritage.\"}"
      ]
     },
     "execution_count": 80,
     "metadata": {},
     "output_type": "execute_result"
    }
   ],
   "source": [
    "customize_product_description_chain.invoke({\n",
    "    \"role\": role, \n",
    "    \"persona\": persona, \n",
    "    \"language\": language,\n",
    "    \"product_name\": product,\n",
    "    \"brand_knowledge\": brand_knowledge,\n",
    "    \"copywriting_guidelines\": copywriting_guidelines,\n",
    "    \"reference_examples\": retailer_product_data,\n",
    "    \"platform_specs\": sephora_specs,   \n",
    "    \"existing_product_dp\": product_data[language][\"Terre d Hermès\"], \n",
    "    \"product_data\": retailer_product_data[\"sephora\"][language][\"Terre d hermes\"] \n",
    "})"
   ]
  },
  {
   "cell_type": "code",
   "execution_count": 62,
   "metadata": {},
   "outputs": [
    {
     "data": {
      "text/plain": [
       "{'fr': {'Galop': \"LA CRÉATION\\nSigné par le parfumeur d'Hermès Christine Nagel en 2016, Galop d'Hermès s'inspire de l'univers équestre et incarne la liberté en mouvement : « Chez Hermès, j'ai découvert toute la féminité du cuir. J'ai composé Galop d'Hermès comme un tableau avec deux matières emblématiques d'Hermès et de la parfumerie : le cuir et la rose. »\\n\\nLES NOTES OLFACTIVES\\nFloral et cuiré, le parfum Galop d'Hermès développe les notes charnues de la rose et celles souples du cuir, au côté d'un safran racé.\\n\\nL'OBJET\\nDessiné par Philippe Mouquet, le flacon-étrier puise avec modernité dans la tradition équestre et l'histoire de la Maison.\\n\\nL'ÉTHIQUE\\nLe flacon se remplit grâce à une recharge de 125 ml munie d'un bouchon verseur en forme d'entonnoir parfaitement adapté à son col. Un geste responsable, indissociable d'un objet créé pour durer.\\n\\nLE DÉTAIL HERMÈS\\nInitialement créé pour être offert aux invités à l'inauguration du premier magasin Hermès de New York le 1er août 1930, l'objet était depuis précieusement gardé au Conservatoire des créations Hermès. Il a été redessiné pour devenir le flacon-étrier de Galop d'Hermès.\\n\",\n",
       "  'Voyage': 'LA CRÉATION\\nEn 2011, Jean-Claude Ellena signe Voyage d\\'Hermès Parfum, une réinterprétation intense et généreuse de la fragrance originelle. « Je me suis éloigné du principe de \"concentration\" de la formule pour m\\'intéresser à l\\'intensité des perceptions et à l\\'amplitude du sillage. »\\n\\nLES NOTES OLFACTIVES\\nBoisé et ambré, Voyage d\\'Hermès Parfum révèle une baie de genièvre revigorante mariée au caractère lacté et doux du bois de santal.\\n\\nL\\'OBJET\\nLe designer Philippe Mouquet a créé un objet singulier, inspiré d\\'une loupe de poche trouvée au hasard des chemins. Le flacon de verre noir s\\'habille d\\'un étrier couleur argent, orné du Clou de Selle emblématique.\\n\\nL\\'ÉTHIQUE\\nLe flacon se remplit à l\\'aide de la recharge de parfum Voyage d\\'Hermès 125 ml. Un geste responsable, indissociable d\\'un objet créé pour durer.\\n\\nLE DÉTAIL HERMÈS\\nDepuis la fondation par Thierry Hermès d\\'une manufacture de harnais et de selles à Paris en 1837, Hermès est l\\'artisan du mouvement et accompagne le voyage. Ce thème inspire la création et anime la culture de la Maison.\\n',\n",
       "  'Jardin sur le nil': \"LA CRÉATION\\nCréé en 2005, l'eau de toilette Un Jardin sur le Nil évoque un voyage olfactif dans les îles-jardins à Assouan en Égypte. Le parfumeur Jean-Claude Ellena raconte dans cette composition ce fleuve synonyme de vie et de générosité.\\n\\nLES NOTES OLFACTIVES\\n\\nVerte et boisée, l'eau de toilette Un Jardin sur le Nil mêle une mangue verte acidulée, un lotus délicat et un sycomore élégant.\\n\\nL'OBJET\\nDessiné par Fred Rawyler, le flacon s'inspire des lignes des lanternes des voitures d'antan. Le verre du flacon s'anime d'un délicat dégradé vert à l'image des rives du Nil. L'étui est illustré d'un lotus en fleur sous le pinceau de l'artiste Véronique de Mareuil.\\n\\nLA COLLECTION PARFUMS-JARDINS\\nLa collection des Parfums-Jardins signe la rencontre entre l'âme d'un lieu, l'inspiration du parfumeur et le thème que se choisit la maison Hermès chaque année pour éclairer sa création. Une promenade olfactive à partager pour chaque moment, pour des envies de fraîcheur, de rêverie et d'évasion.\\n\",\n",
       "  'Caleche': \"LA CRÉATION\\nComposé par le parfumeur Guy Robert en 1961, Calèche est le premier parfum féminin d'Hermès. Son nom fait écho à l'attelage emblématique de la Maison : la voiture hippomobile du XIXe siècle, élégante et légère.\\n\\nLES NOTES OLFACTIVES\\nFragrance florale et aldéhydée, l'eau de toilette Calèche réunit avec une grande féminité la finesse des aldéhydes, l'ondulation d'un jasmin et la légèreté d'une rose.\\n\\nL'OBJET\\nInspiré des lanternes des voitures d'antan, le flacon est coiffé d'un capot noir faisant écho à la bombe des cavaliers. Signe d'appartenance à la collection des Parfums-Fondateurs, l'étiquette au dos est illustrée d'un dessin de Philippe Dumas.\\n\\nLA COLLECTION DES PARFUMS-FONDATEURS\\nLa collection des Parfums-Fondateurs puise son inspiration dans le patrimoine de la Maison. Chaque création concentre l'imaginaire d'Hermès en un nom, une fragrance, une couleur. Au fil des ans, Hermès a écrit les pages d'une parfumerie audacieuse, née de la rencontre avec des parfumeurs d'exception.\\n\",\n",
       "  'Jardin a cythere': 'Les Parfums-Jardins\\nÉchos aux thèmes annuels imaginés par la maison, les Parfums-Jardins sont nés de la rencontre entre l’âme d’un lieu, l’esprit d’Hermès et l’inspiration du parfumeur. Pour chaque moment, une promenade olfactive à partager pour des envies de fraîcheur, de rêverie et d’évasion.\\n\\nL’inspiration\\nHermès célèbre l’étonnement et nous invite à la découverte d’un jardin singulier, ni vert ni fleuri, mais... blond : Un Jardin à Cythère.\\nL’expression d’une quête olfactive à travers le Péloponnèse,qui mène à Cythère, une île grecque préservée ayant inspiré de nombreux artistes.\\nUn parfum baigné de soleil où les senteurs des graminées dorées se mêlent à la force du bois d’olivier et à la tendresse de la pistache fraîche.\\n\\nLa fragrance\\nHespéridé, boisé.\\nUn jardin blond, enveloppant et étonnant.\\nÉvocation de graminées enveloppantes, de bois d’olivier vigoureux et de pistache fraîche.\\n\\nL’étui\\nArtiste et dessinateur de carrés pour la maison,Elias Kafouros est véritablement épris de sa terre natale, la Grèce. Il représente sur cet étui sa vision authentique du paysage hellénique.\\nL’illustration nous invite à contempler l’herbe dorée réchauffée par le soleil et caressée par le vent, les nuances de vert des oliviers, le rose des pistaches fraîches et le bleu de la mer.\\n\\nLe flacon\\nL’emblématique flacon «lanterne» est infusé d’un jaune chaud et lumineux,écho à la fragrance. Un flacon gorgé de soleil.\\n',\n",
       "  'Jour': \"LA CRÉATION\\nComposition féminine et intemporelle, Jour d'Hermès a été créé en 2012 par le parfumeur Jean-Claude Ellena : « J'ai voulu exprimer par les fleurs, et rien que les fleurs, l'essence de la féminité. »\\n\\nLES NOTES OLFACTIVES\\nL'eau de parfum Jour d'Hermès est une fragrance florale. Elle convoque la sensualité du gardénia et la délicatesse du pois de senteur dans une harmonie parfaite.\\n\\nL'OBJET\\nDessiné par le designer Pierre Hardy, le flacon s'épanouit en courbes rondes et sensuelles. Au centre, une goutte de parfum lumineuse en suspension.\\n\\nL'ÉTHIQUE\\nLe flacon se remplit à l'aide de la recharge d'eau de parfum 125 ml. Un geste responsable, indissociable d'un objet créé pour durer.\\n\\nLE DÉTAIL HERMÈS\\nOutil essentiel à l'ouvrage de l'artisan, la lumière, chez Hermès, est la première des matières. Elle anime, donne vie aux objets et révèle la beauté du monde. Cette lumière a inspiré le plus essentiel des parfums, Jour d'Hermès.\\n\",\n",
       "  'Eau des merveilles': \"LA CRÉATION\\nCréée par les parfumeurs Ralf Schwieger et Nathalie Feisthauer, l'eau de toilette Eau des Merveilles ouvre sur le merveilleux d'Hermès. Un monde où l'extraordinaire se révèle avec une pluie d'étoiles en plein jour.\\n\\nLES NOTES OLFACTIVES\\nUne eau de toilette boisée et ambrée, qui mêle le benjoin enveloppant, l'élémi épicé et la bigarade pétillante.\\n\\nL'OBJET\\nDessiné par Serge Mansau, le flacon loupe étoilé fait scintiller une lumière orangée, de l'intense à l'aérien. Sur le dessus du spray, apparaît gravé le sceau clou de selle de la maison. Le format 30 ml est la clé pour ouvrir l'imaginaire partout et à tout instant.\\n\\nL'ÉTHIQUE\\nLe flacon est rechargeable. Un geste responsable, indissociable d'un objet créé pour durer.\\n\",\n",
       "  'Eau d orange verte': \"LA CRÉATION\\nLa toute première cologne de la maison Hermès est signée Françoise Caron en 1979. Elle est d'abord appelée Eau de cologne Hermès, avant d'être renommée Eau d'orange verte en 1997. Devenue emblématique, elle se distingue par sa fraîcheur vive et verte.\\n\\nLES NOTES OLFACTIVES\\nLa cologne Eau d'orange verte allie une orange éclatante, à la fraîcheur de la menthe et aux notes boisées de la mousse.\\n\\nL'OBJET\\nLe flacon lanterne emblématique se pare d'un vert profond. Sur la boîte orange, un bandeau tout en contraste rappelle la couleur du flacon.\\n\\nLA COLLECTION DES COLOGNES HERMÈS\\nTerrain de jeu infini autant que virtuose, la collection des Colognes Hermès explore la sensorialité des matières. Elle signe un plaisir immédiat et généreux, qui rassemble au-delà des genres, des modes, des âges ou des saisons.\\n\",\n",
       "  'Tutti twilly': \"LA CRÉATION\\nImaginée par Christine Nagel pour les filles d'Hermès, l'eau de parfum Tutti Twilly d'Hermès est un hommage à leur esprit libre, fait d'audace et de légèreté, et à leur pluralité. Toutes différentes, elles se retrouvent dans ce parfum.\\n\\nLES NOTES OLFACTIVES\\nUne eau de parfum florale et fruitée au caractère généreux tressée d'une fleur de gingembre douce, d'un litchi moelleux et d'un musc enveloppant.\\n\\nL'OBJET\\nDessiné par Florence Manlik, le flacon-lanterne emblématique est coupé au carré et se pare d'un dégradé inversé rouge litchi. Son capot blanc s'habille d'un lien de soie signé de Carine Brancowitz. Noué à la main, chaque lien de soie est unique. Le format 30 ml permet d'emporter partout avec soi les notes de Tutti Twilly, pour diffuser l'esprit libre des filles d'Hermès.\\n\\nLE DÉTAIL HERMÈS\\nLe nom de la tribu parfumée Twilly d'Hermès évoque le métier de la soie Hermès : le Twilly, petit ruban joyeux et coloré aux multiples portés, est le détournement du carré en twill de soie de la Maison.\\n\",\n",
       "  'Terre d Hermès': \"LA CRÉATION\\nEn 2006, Jean-Claude Ellena crée Terre d'Hermès, une eau reliant l'homme à ses origines, aux sources de sa puissance créatrice. Terre d'Hermès raconte la relation de l'homme à la terre, son dialogue humble et harmonieux avec la nature et les éléments.\\nDepuis 2016, Christine Nagel, parfumeur d'Hermès, pose son regard sur Terre pour en explorer les nouveaux possibles.\\n\\nLES NOTES OLFACTIVES\\nFragrance minérale et boisée, Terre d'Hermès allie la puissance du cèdre et l'éclat du pamplemousse à une note de silex vibrante.\\n\\nL'OBJET\\nCôté sol, le flacon est posé sur un H orange. Il marque son empreinte dans la terre. Côté ciel, la lumière se reflète sur les épaules métalliques. Entre les deux, la transparence de l'eau.\\n\\nLE DÉTAIL HERMÈS\\nUne fois en main, le flacon Terre d'Hermès dévoile de nombreux détails : le Clou de Selle emblématique de la Maison, le capot que l'on coulisse pour libérer le spray, etc.\\nCréé par le designer Philippe Mouquet, il s'inspire d'un flacon de nécessaire de voyage, conservé au musée Emile Hermès.\\n\"},\n",
       " 'en': {'Galop': \"CREATION\\nCreated in 2005, Un Jardin sur le Nil eau de toilette evokes an olfactory journey to the garden islands in Aswan, Egypt. In this composition, perfumer Jean-Claude Ellena tells of this river synonymous with life and generosity.\\n\\nOLFACTORY NOTES\\n\\nGreen and woody, Un Jardin sur le Nil eau de toilette combines tangy green mango with delicate lotus and elegant sycamore.\\n\\nTHE OBJECT\\nDesigned by Fred Rawyler, the bottle is inspired by the lines of horse-drawn carriage lanterns. Its glass is in a delicate green gradient, evoking the banks of the Nile. The box is illustrated with a lotus flower by artist Veronique de Mareuil.\\n\\nTHE PARFUMS-JARDINS COLLECTION\\nThe Parfums-Jardins collection brings together the soul of a place, the perfumer's inspiration and the theme chosen by Hermès each year to nourish its creativity. They are olfactory strolls to share for every moment, to indulge every desire for freshness, reverie or escape.\\n\",\n",
       "  'Voyage': 'CREATION\\nIn 2011, Jean-Claude Ellena created Voyage d\\'Hermès Parfum, an intense and generous reinterpretation of the original fragrance. \"I moved away from the idea of \\'concentrating\\' the formula to focus on the intensity of perceptions and the magnitude of the fragrance trail.\"\\n\\nOLFACTORY NOTES\\nWith a woody and amber character, Voyage d\\'Hermès Parfum reveals invigorating juniper berry blended with sweet and milky sandalwood.\\n\\nTHE OBJECT\\nDesigner Philippe Mouquet created a unique object inspired by a pocket magnifying glass found by chance. The black glass bottle is encased in a silver-colored stirrup and decorated with the emblematic Clou de Selle.\\n\\nETHICS\\nThe bottle can be replenished using the 125 ml Voyage d\\'Hermès Parfum refill. A responsible gesture, integral to an object created to last.\\n\\nTHE HERMÈS DETAIL\\nHermès has been an artisan of movement and a valued companion for travelers ever since Thierry Hermès founded a harness and saddlery business in Paris in 1837. This theme underpins the House\\'s creativity and inspires its culture.\\n',\n",
       "  'Jardin sur le nil': \"CREATION\\nCreated in 2005, Un Jardin sur le Nil eau de toilette evokes an olfactory journey to the garden islands in Aswan, Egypt. In this composition, perfumer Jean-Claude Ellena tells of this river synonymous with life and generosity.\\n\\nOLFACTORY NOTES\\n\\nGreen and woody, Un Jardin sur le Nil eau de toilette combines tangy green mango with delicate lotus and elegant sycamore.\\n\\nTHE OBJECT\\nDesigned by Fred Rawyler, the bottle is inspired by the lines of horse-drawn carriage lanterns. Its glass is in a delicate green gradient, evoking the banks of the Nile. The box is illustrated with a lotus flower by artist Veronique de Mareuil.\\n\\nTHE PARFUMS-JARDINS COLLECTION\\nThe Parfums-Jardins collection brings together the soul of a place, the perfumer's inspiration and the theme chosen by Hermès each year to nourish its creativity. They are olfactory strolls to share for every moment, to indulge every desire for freshness, reverie or escape.\\n\",\n",
       "  'Caleche': \"CREATION\\nCreated by perfumer Guy Robert in 1961, Hermès' first fragrance for women, Caleche, was reinterpreted in 1992 as Caleche soie de parfum, the name of which refers to the horse-drawn carriages that are emblematic of the House and its silk metier.\\n\\nOLFACTORY NOTES\\nFloral with aldehyde aromas, Caleche Soie de Parfum combines the refined notes of aldehyde with opulent jasmine and generous rose.\\n\\nTHE OBJECT\\nThe bottle, inspired by the lanterns of horse-drawn carriages, has a black cap reminiscent of a riding hat. The back label is illustrated with a design by Philippe Dumas, indicating that it belongs to the Parfums-Fondateurs collection.\\n\\nTHE PARFUMS-FONDATEURS COLLECTION\\nThe Parfums-Fondateurs collection draws inspiration from the House's heritage. Each creation encapsulates Hermès' imaginary world in a name, a fragrance and a color. Over the years, Hermès has pioneered a bold style of perfumery, resulting from encounters with exceptional perfumers.\\n\",\n",
       "  'Jardin a cythere': \"CREATION\\nCreated by Hermès' perfumer Christine Nagel, Un Jardin a Cythere eau de toilette is a surprising garden that is neither green nor floral, but... blond. It is the expression of an olfactory quest through Greece that leads to Kythira, a picturesque island that has inspired many artists.\\n\\nOLFACTORY NOTES\\nA citrus and woody fragrance, Un Jardin a Cythere eau de toilette combines enveloping notes of grasses with the strength of olive wood and the tenderness of fresh pistachio.\\n\\nTHE OBJECT\\nDesigned by Fred Rawyler, the bottle is inspired by the lines of the horse-drawn carriage lanterns of yesteryear. The luminous yellow glass echoes the sunny fragrance. On the box, artist Elias Kafouros sketches a colorful landscape of his homeland: golden grasses, green olive trees, fresh pink pistachios and in the background, the blue of the sea.\\n\\nTHE PARFUMS-JARDINS COLLECTION\\nThe Parfums-Jardins collection brings together the soul of a place, the perfumer's inspiration and the annual theme selected by Hermès. An aromatic journey for every moment, satisfying every desire for freshness, reverie or escape.\\n\",\n",
       "  'Jour': 'CREATION\\nJour d\\'Hermès is a timeless, feminine composition that was created in 2012 by perfumer Jean-Claude Ellena: \"I wanted to express the essence of femininity through flowers, and flowers alone.\"\\n\\nOLFACTORY NOTES\\nJour d\\'Hermès eau de parfum is a floral fragrance. It evokes the sensuality of gardenia and the delicacy of sweet peas in a perfectly orchestrated harmony.\\n\\nTHE OBJECT\\nCreated by designer Pierre Hardy, the bottle displays rounded, sensual curves. At the center, a radiant drop of perfume hangs suspended.\\n\\nETHICS\\nThe bottle can be replenished using the 125 ml eau de parfum refill. A responsible gesture, integral to an object created to last.\\n\\nTHE HERMÈS DETAIL\\nAn essential tool for the artisan\\'s work, light is the primary material at Hermès. It energizes objects and brings them to life, while revealing the beauty of the world. It is this light that inspired Jour d\\'Hermès, the most vital of fragrances.\\n',\n",
       "  'Eau des merveilles': \"THE CREATION\\nCreated by perfumers Ralf Schwieger and Nathalie Feisthauer, Eau des Merveilles eau de toilette showcases the wonders of Hermès. A world where the extraordinary is revealed with a shower of stars in broad daylight.\\n\\nOLFACTORY NOTES\\nThe woody and amber eau de toilette blends enveloping benzoin, spicy elemi and sparkling bigarade orange.\\n\\nBOTTLE\\nDesigned by Serge Mansau, the star-spangled magnifying-glass bottle twinkles with an orange light that shifts from intense to ethereal. The top of the spray is engraved with the House's Clou de Selle seal.\\n\\nTHE EAU DES MERVEILLES CONSTELLATION\\nThis first opus of the Hermès Merveilles collection invites you to discover a world of enchantment with your feet on the ground and head in the stars. An olfactory constellation revealing the house's poetic view of the world.\\n\",\n",
       "  'Eau d orange verte': \"CREATION\\nThe very first Hermès cologne was created by Françoise Caron in 1979. It was initially called Eau de cologne Hermès, before being renamed Eau d'orange verte in 1997. Now iconic, it stands out for its vivid green freshness.\\n\\nOLFACTORY NOTES\\nThe Eau d'orange verte cologne combines vibrant orange with fresh mint and woody notes of moss.\\n\\nTHE OBJECT\\nThe iconic lantern bottle is adorned with a deep green. On the orange box, a vividly contrasting band recalls the color of the bottle.\\n\\nTHE HERMÈS COLOGNES COLLECTION\\nThe Hermès Colognes collection offers a playground that is as infinite as it is masterly for exploring the sensory nature of materials. It brings immediate and abundant pleasure that unifies beyond genres, fashions, ages or seasons.\\n\",\n",
       "  'Tutti twilly': \"THE CREATION\\nCreated by Christine Nagel for the Hermès girls, Tutti Twilly d'Hermès eau de parfum is a tribute to their free spirit – a blend of daring and lightheartedness – and their multifaceted nature. Individuality is reflected in this fragrance.\\n\\nOLFACTORY NOTES\\nA floral and fruity eau de parfum with a generous character crafted with gentle ginger blossom, mellow lychee, and enveloping musk notes.\\n\\nBOTTLE\\nDesigned by Florence Manlik, the lantern-shaped bottle has a square silhouette, adorned with an inverted lychee-red color graduation. With a final flourish, a hand-tied silk ribbon playfully embellishes the cap of each bottle designed by Carine Brancowitz. Each silk ribbon is unique. Its 30 ml format allows you to take the notes of Tutti Twilly with you while on the go to diffuse the sparkle of the Hermès girls anywhere and everywhere.\\n\\nTHE HERMÈS DETAIL\\nThe Twilly d'Hermès family of perfumes evokes the Hermès silk métier on two fronts: it calls to mind the house's silk twill scarf as well as the Twilly, a small, joyful, colorful silk ribbon that can be worn in countless ways.\\n\",\n",
       "  'Terre d Hermès': \"THE CREATION\\nTerre d'Hermès tells the story of man's relationship with the earth, his humble and harmonious dialogue with nature and the elements.\\nIn 2009, Jean-Claude Ellena infused Terre d'Hermès with a new density by creating Terre d'Hermès Parfum.\\n\\nOLFACTORY NOTES\\nA warm, woody fragrance, Terre d'Hermès Parfum combines enveloping cedar and sparkling grapefruit with a radiant note of shiso.\\n\\nTHE OBJECT\\nAt its base, the bottle rests on a more visible orange H – echoing the deeper color of the fragrance – which leaves its imprint on the earth. At the top, the light is reflected by the bottle's metal shoulders.\\n\\nTHE HERMÈS DETAIL\\nWhen held in the hand, the Terre d'Hermès Parfum bottle unveils its many details: the House's iconic Clou de Selle, the sliding cover used to release the spray, etc.\\nCreated by designer Philippe Mouquet, it is inspired by a bottle in a travel vanity case that is conserved at the Emile Hermès museum.\\n\"}}"
      ]
     },
     "execution_count": 62,
     "metadata": {},
     "output_type": "execute_result"
    }
   ],
   "source": [
    "product_data"
   ]
  },
  {
   "cell_type": "code",
   "execution_count": null,
   "metadata": {},
   "outputs": [],
   "source": []
  }
 ],
 "metadata": {
  "kernelspec": {
   "display_name": "pullman_env",
   "language": "python",
   "name": "pullman_env"
  },
  "language_info": {
   "codemirror_mode": {
    "name": "ipython",
    "version": 3
   },
   "file_extension": ".py",
   "mimetype": "text/x-python",
   "name": "python",
   "nbconvert_exporter": "python",
   "pygments_lexer": "ipython3",
   "version": "3.10.13"
  }
 },
 "nbformat": 4,
 "nbformat_minor": 2
}
